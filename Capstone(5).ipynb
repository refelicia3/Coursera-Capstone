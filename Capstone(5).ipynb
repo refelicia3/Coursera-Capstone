{
 "cells": [
  {
   "cell_type": "code",
   "execution_count": 1,
   "metadata": {},
   "outputs": [
    {
     "data": {
      "text/html": [
       "<div>\n",
       "<style scoped>\n",
       "    .dataframe tbody tr th:only-of-type {\n",
       "        vertical-align: middle;\n",
       "    }\n",
       "\n",
       "    .dataframe tbody tr th {\n",
       "        vertical-align: top;\n",
       "    }\n",
       "\n",
       "    .dataframe thead th {\n",
       "        text-align: right;\n",
       "    }\n",
       "</style>\n",
       "<table border=\"1\" class=\"dataframe\">\n",
       "  <thead>\n",
       "    <tr style=\"text-align: right;\">\n",
       "      <th></th>\n",
       "      <th>Date</th>\n",
       "      <th>Police_ref</th>\n",
       "      <th>Easting</th>\n",
       "      <th>Northing</th>\n",
       "      <th>Severity</th>\n",
       "      <th>Road_cond</th>\n",
       "      <th>Visibility</th>\n",
       "      <th>Casualties</th>\n",
       "      <th>Pedestrian</th>\n",
       "      <th>Cycles</th>\n",
       "      <th>...</th>\n",
       "      <th>Cross_ctrl</th>\n",
       "      <th>Cross_fac</th>\n",
       "      <th>Weather</th>\n",
       "      <th>SpCond</th>\n",
       "      <th>Carr_haz</th>\n",
       "      <th>Day</th>\n",
       "      <th>Location</th>\n",
       "      <th>Local_Auth</th>\n",
       "      <th>ReportedAt</th>\n",
       "      <th>Parish</th>\n",
       "    </tr>\n",
       "  </thead>\n",
       "  <tbody>\n",
       "    <tr>\n",
       "      <th>0</th>\n",
       "      <td>20180101</td>\n",
       "      <td>18263388</td>\n",
       "      <td>519784</td>\n",
       "      <td>299454</td>\n",
       "      <td>2. Serious</td>\n",
       "      <td>2. Wet/Damp</td>\n",
       "      <td>4. Darkness: street lights present and lit</td>\n",
       "      <td>1</td>\n",
       "      <td>0</td>\n",
       "      <td>0</td>\n",
       "      <td>...</td>\n",
       "      <td>0. None</td>\n",
       "      <td>1. Zebra crossing</td>\n",
       "      <td>1. Fine without high winds</td>\n",
       "      <td>0</td>\n",
       "      <td>0. None</td>\n",
       "      <td>2. Monday</td>\n",
       "      <td>EASTFIELD ROAD AT JN WITH PADHOLME ROAD</td>\n",
       "      <td>E06000031</td>\n",
       "      <td>1. Yes</td>\n",
       "      <td>181</td>\n",
       "    </tr>\n",
       "    <tr>\n",
       "      <th>1</th>\n",
       "      <td>20180102</td>\n",
       "      <td>18257386</td>\n",
       "      <td>519682</td>\n",
       "      <td>270658</td>\n",
       "      <td>3. Slight</td>\n",
       "      <td>2. Wet/Damp</td>\n",
       "      <td>6. Darkness: no street lighting</td>\n",
       "      <td>2</td>\n",
       "      <td>0</td>\n",
       "      <td>0</td>\n",
       "      <td>...</td>\n",
       "      <td>0. None</td>\n",
       "      <td>0. None within 50m</td>\n",
       "      <td>1. Fine without high winds</td>\n",
       "      <td>0</td>\n",
       "      <td>0. None</td>\n",
       "      <td>3. Tuesday</td>\n",
       "      <td>NEAR BRAMPTON HUT SERVICES SOUTBOUND A1 NEAR J...</td>\n",
       "      <td>E07000011</td>\n",
       "      <td>1. Yes</td>\n",
       "      <td>26</td>\n",
       "    </tr>\n",
       "    <tr>\n",
       "      <th>2</th>\n",
       "      <td>20180103</td>\n",
       "      <td>18259484</td>\n",
       "      <td>540715</td>\n",
       "      <td>242553</td>\n",
       "      <td>3. Slight</td>\n",
       "      <td>1. Dry</td>\n",
       "      <td>6. Darkness: no street lighting</td>\n",
       "      <td>1</td>\n",
       "      <td>0</td>\n",
       "      <td>0</td>\n",
       "      <td>...</td>\n",
       "      <td>0. None</td>\n",
       "      <td>0. None within 50m</td>\n",
       "      <td>4. Fine with high winds</td>\n",
       "      <td>0</td>\n",
       "      <td>0. None</td>\n",
       "      <td>4. Wednesday</td>\n",
       "      <td>BARLEY ROAD B1368</td>\n",
       "      <td>E07000012</td>\n",
       "      <td>1. Yes</td>\n",
       "      <td>95</td>\n",
       "    </tr>\n",
       "  </tbody>\n",
       "</table>\n",
       "<p>3 rows × 34 columns</p>\n",
       "</div>"
      ],
      "text/plain": [
       "       Date  Police_ref  Easting  Northing    Severity    Road_cond  \\\n",
       "0  20180101    18263388   519784    299454  2. Serious  2. Wet/Damp   \n",
       "1  20180102    18257386   519682    270658   3. Slight  2. Wet/Damp   \n",
       "2  20180103    18259484   540715    242553   3. Slight       1. Dry   \n",
       "\n",
       "                                   Visibility  Casualties  Pedestrian  Cycles  \\\n",
       "0  4. Darkness: street lights present and lit           1           0       0   \n",
       "1             6. Darkness: no street lighting           2           0       0   \n",
       "2             6. Darkness: no street lighting           1           0       0   \n",
       "\n",
       "   ...  Cross_ctrl           Cross_fac                     Weather SpCond  \\\n",
       "0  ...     0. None   1. Zebra crossing  1. Fine without high winds      0   \n",
       "1  ...     0. None  0. None within 50m  1. Fine without high winds      0   \n",
       "2  ...     0. None  0. None within 50m     4. Fine with high winds      0   \n",
       "\n",
       "  Carr_haz           Day                                           Location  \\\n",
       "0  0. None     2. Monday            EASTFIELD ROAD AT JN WITH PADHOLME ROAD   \n",
       "1  0. None    3. Tuesday  NEAR BRAMPTON HUT SERVICES SOUTBOUND A1 NEAR J...   \n",
       "2  0. None  4. Wednesday                                  BARLEY ROAD B1368   \n",
       "\n",
       "   Local_Auth ReportedAt  Parish  \n",
       "0   E06000031     1. Yes     181  \n",
       "1   E07000011     1. Yes      26  \n",
       "2   E07000012     1. Yes      95  \n",
       "\n",
       "[3 rows x 34 columns]"
      ]
     },
     "execution_count": 1,
     "metadata": {},
     "output_type": "execute_result"
    }
   ],
   "source": [
    "\n",
    "import types\n",
    "import pandas as pd\n",
    "from botocore.client import Config\n",
    "import ibm_boto3\n",
    "\n",
    "def __iter__(self): return 0\n",
    "\n",
    "# @hidden_cell\n",
    "# The following code accesses a file in your IBM Cloud Object Storage. It includes your credentials.\n",
    "# You might want to remove those credentials before you share the notebook.\n",
    "client_dd4025c279df4f16b91f6cf10cf5b3ed = ibm_boto3.client(service_name='s3',\n",
    "    ibm_api_key_id='7ITxTArvRSJA1HqOVXEDHT9R-zCP2kVgVYLKpJNViGUP',\n",
    "    ibm_auth_endpoint=\"https://iam.cloud.ibm.com/oidc/token\",\n",
    "    config=Config(signature_version='oauth'),\n",
    "    endpoint_url='https://s3-api.us-geo.objectstorage.service.networklayer.com')\n",
    "\n",
    "body = client_dd4025c279df4f16b91f6cf10cf5b3ed.get_object(Bucket='datascience-donotdelete-pr-9i2b3zs0qw19l3',Key='RTC Location 2018.csv')['Body']\n",
    "# add missing __iter__ method, so pandas accepts body as file-like object\n",
    "if not hasattr(body, \"__iter__\"): body.__iter__ = types.MethodType( __iter__, body )\n",
    "\n",
    "df_data_1 = pd.read_csv(body)\n",
    "df_data_1.head(3) \n"
   ]
  },
  {
   "cell_type": "code",
   "execution_count": 2,
   "metadata": {},
   "outputs": [
    {
     "data": {
      "text/plain": [
       "Date           int64\n",
       "Police_ref     int64\n",
       "Easting        int64\n",
       "Northing       int64\n",
       "Severity      object\n",
       "Road_cond     object\n",
       "Visibility    object\n",
       "Casualties     int64\n",
       "Pedestrian     int64\n",
       "Cycles         int64\n",
       "P2W            int64\n",
       "OAPs           int64\n",
       "Children       int64\n",
       "Manoeuvre     object\n",
       "Time          object\n",
       "Vehicles       int64\n",
       "Roadclass1    object\n",
       "Roadnum1       int64\n",
       "Road_Type     object\n",
       "Speed_Lim      int64\n",
       "Junct_det     object\n",
       "Junct_ctrl    object\n",
       "Roadclass2    object\n",
       "Roadnum2       int64\n",
       "Cross_ctrl    object\n",
       "Cross_fac     object\n",
       "Weather       object\n",
       "SpCond         int64\n",
       "Carr_haz      object\n",
       "Day           object\n",
       "Location      object\n",
       "Local_Auth    object\n",
       "ReportedAt    object\n",
       "Parish         int64\n",
       "dtype: object"
      ]
     },
     "execution_count": 2,
     "metadata": {},
     "output_type": "execute_result"
    }
   ],
   "source": [
    "df_data_1.dtypes\n"
   ]
  },
  {
   "cell_type": "code",
   "execution_count": 28,
   "metadata": {},
   "outputs": [],
   "source": [
    "df = df_data_1[['Police_ref', 'Casualties', 'Vehicles', 'Roadnum1','Speed_Lim']] "
   ]
  },
  {
   "cell_type": "code",
   "execution_count": 29,
   "metadata": {
    "scrolled": true
   },
   "outputs": [
    {
     "data": {
      "text/html": [
       "<div>\n",
       "<style scoped>\n",
       "    .dataframe tbody tr th:only-of-type {\n",
       "        vertical-align: middle;\n",
       "    }\n",
       "\n",
       "    .dataframe tbody tr th {\n",
       "        vertical-align: top;\n",
       "    }\n",
       "\n",
       "    .dataframe thead th {\n",
       "        text-align: right;\n",
       "    }\n",
       "</style>\n",
       "<table border=\"1\" class=\"dataframe\">\n",
       "  <thead>\n",
       "    <tr style=\"text-align: right;\">\n",
       "      <th></th>\n",
       "      <th>Police_ref</th>\n",
       "      <th>Casualties</th>\n",
       "      <th>Vehicles</th>\n",
       "      <th>Roadnum1</th>\n",
       "      <th>Speed_Lim</th>\n",
       "    </tr>\n",
       "  </thead>\n",
       "  <tbody>\n",
       "    <tr>\n",
       "      <th>0</th>\n",
       "      <td>18263388</td>\n",
       "      <td>1</td>\n",
       "      <td>2</td>\n",
       "      <td>0</td>\n",
       "      <td>30</td>\n",
       "    </tr>\n",
       "    <tr>\n",
       "      <th>1</th>\n",
       "      <td>18257386</td>\n",
       "      <td>2</td>\n",
       "      <td>2</td>\n",
       "      <td>1</td>\n",
       "      <td>40</td>\n",
       "    </tr>\n",
       "    <tr>\n",
       "      <th>2</th>\n",
       "      <td>18259484</td>\n",
       "      <td>1</td>\n",
       "      <td>1</td>\n",
       "      <td>1368</td>\n",
       "      <td>30</td>\n",
       "    </tr>\n",
       "    <tr>\n",
       "      <th>3</th>\n",
       "      <td>18257077</td>\n",
       "      <td>1</td>\n",
       "      <td>2</td>\n",
       "      <td>0</td>\n",
       "      <td>20</td>\n",
       "    </tr>\n",
       "    <tr>\n",
       "      <th>4</th>\n",
       "      <td>18255977</td>\n",
       "      <td>1</td>\n",
       "      <td>2</td>\n",
       "      <td>1096</td>\n",
       "      <td>50</td>\n",
       "    </tr>\n",
       "  </tbody>\n",
       "</table>\n",
       "</div>"
      ],
      "text/plain": [
       "   Police_ref  Casualties  Vehicles  Roadnum1  Speed_Lim\n",
       "0    18263388           1         2         0         30\n",
       "1    18257386           2         2         1         40\n",
       "2    18259484           1         1      1368         30\n",
       "3    18257077           1         2         0         20\n",
       "4    18255977           1         2      1096         50"
      ]
     },
     "execution_count": 29,
     "metadata": {},
     "output_type": "execute_result"
    }
   ],
   "source": [
    "df.head() "
   ]
  },
  {
   "cell_type": "code",
   "execution_count": 30,
   "metadata": {},
   "outputs": [],
   "source": [
    "\n",
    "import numpy as np\n",
    "# Define a function to map the values \n",
    "def set_value(row_number, assigned_value): \n",
    "    return assigned_value[row_number] \n",
    "\n",
    "# Create the dictionary \n",
    "sev_dict ={'1. Fatal' : 1, '2. Serious' : 2, '3. Slight' : 3}  \n",
    "  "
   ]
  },
  {
   "cell_type": "code",
   "execution_count": 31,
   "metadata": {},
   "outputs": [
    {
     "name": "stderr",
     "output_type": "stream",
     "text": [
      "/opt/conda/envs/Python36/lib/python3.6/site-packages/ipykernel/__main__.py:2: SettingWithCopyWarning: \n",
      "A value is trying to be set on a copy of a slice from a DataFrame.\n",
      "Try using .loc[row_indexer,col_indexer] = value instead\n",
      "\n",
      "See the caveats in the documentation: http://pandas.pydata.org/pandas-docs/stable/indexing.html#indexing-view-versus-copy\n",
      "  from ipykernel import kernelapp as app\n"
     ]
    }
   ],
   "source": [
    "# Add a new column named 'Sev'\n",
    "df['Sev'] = df_data_1['Severity'].apply(set_value, args =(sev_dict, ))   "
   ]
  },
  {
   "cell_type": "code",
   "execution_count": 32,
   "metadata": {},
   "outputs": [
    {
     "data": {
      "text/html": [
       "<div>\n",
       "<style scoped>\n",
       "    .dataframe tbody tr th:only-of-type {\n",
       "        vertical-align: middle;\n",
       "    }\n",
       "\n",
       "    .dataframe tbody tr th {\n",
       "        vertical-align: top;\n",
       "    }\n",
       "\n",
       "    .dataframe thead th {\n",
       "        text-align: right;\n",
       "    }\n",
       "</style>\n",
       "<table border=\"1\" class=\"dataframe\">\n",
       "  <thead>\n",
       "    <tr style=\"text-align: right;\">\n",
       "      <th></th>\n",
       "      <th>Police_ref</th>\n",
       "      <th>Casualties</th>\n",
       "      <th>Vehicles</th>\n",
       "      <th>Roadnum1</th>\n",
       "      <th>Speed_Lim</th>\n",
       "      <th>Sev</th>\n",
       "    </tr>\n",
       "  </thead>\n",
       "  <tbody>\n",
       "    <tr>\n",
       "      <th>0</th>\n",
       "      <td>18263388</td>\n",
       "      <td>1</td>\n",
       "      <td>2</td>\n",
       "      <td>0</td>\n",
       "      <td>30</td>\n",
       "      <td>2</td>\n",
       "    </tr>\n",
       "    <tr>\n",
       "      <th>1</th>\n",
       "      <td>18257386</td>\n",
       "      <td>2</td>\n",
       "      <td>2</td>\n",
       "      <td>1</td>\n",
       "      <td>40</td>\n",
       "      <td>3</td>\n",
       "    </tr>\n",
       "    <tr>\n",
       "      <th>2</th>\n",
       "      <td>18259484</td>\n",
       "      <td>1</td>\n",
       "      <td>1</td>\n",
       "      <td>1368</td>\n",
       "      <td>30</td>\n",
       "      <td>3</td>\n",
       "    </tr>\n",
       "    <tr>\n",
       "      <th>3</th>\n",
       "      <td>18257077</td>\n",
       "      <td>1</td>\n",
       "      <td>2</td>\n",
       "      <td>0</td>\n",
       "      <td>20</td>\n",
       "      <td>3</td>\n",
       "    </tr>\n",
       "    <tr>\n",
       "      <th>4</th>\n",
       "      <td>18255977</td>\n",
       "      <td>1</td>\n",
       "      <td>2</td>\n",
       "      <td>1096</td>\n",
       "      <td>50</td>\n",
       "      <td>3</td>\n",
       "    </tr>\n",
       "  </tbody>\n",
       "</table>\n",
       "</div>"
      ],
      "text/plain": [
       "   Police_ref  Casualties  Vehicles  Roadnum1  Speed_Lim  Sev\n",
       "0    18263388           1         2         0         30    2\n",
       "1    18257386           2         2         1         40    3\n",
       "2    18259484           1         1      1368         30    3\n",
       "3    18257077           1         2         0         20    3\n",
       "4    18255977           1         2      1096         50    3"
      ]
     },
     "execution_count": 32,
     "metadata": {},
     "output_type": "execute_result"
    }
   ],
   "source": [
    "df.head() "
   ]
  },
  {
   "cell_type": "code",
   "execution_count": 33,
   "metadata": {},
   "outputs": [],
   "source": [
    "road_dict ={'1. Dry' : 1, '2. Wet/Damp' : 2, '3. Snow' : 3, '4. Frost/Ice' : 4}   \n",
    "  "
   ]
  },
  {
   "cell_type": "code",
   "execution_count": 34,
   "metadata": {},
   "outputs": [
    {
     "name": "stderr",
     "output_type": "stream",
     "text": [
      "/opt/conda/envs/Python36/lib/python3.6/site-packages/ipykernel/__main__.py:1: SettingWithCopyWarning: \n",
      "A value is trying to be set on a copy of a slice from a DataFrame.\n",
      "Try using .loc[row_indexer,col_indexer] = value instead\n",
      "\n",
      "See the caveats in the documentation: http://pandas.pydata.org/pandas-docs/stable/indexing.html#indexing-view-versus-copy\n",
      "  if __name__ == '__main__':\n"
     ]
    }
   ],
   "source": [
    "df['Road'] = df_data_1['Road_cond'].apply(set_value, args =(road_dict, ))  "
   ]
  },
  {
   "cell_type": "code",
   "execution_count": 35,
   "metadata": {},
   "outputs": [
    {
     "data": {
      "text/html": [
       "<div>\n",
       "<style scoped>\n",
       "    .dataframe tbody tr th:only-of-type {\n",
       "        vertical-align: middle;\n",
       "    }\n",
       "\n",
       "    .dataframe tbody tr th {\n",
       "        vertical-align: top;\n",
       "    }\n",
       "\n",
       "    .dataframe thead th {\n",
       "        text-align: right;\n",
       "    }\n",
       "</style>\n",
       "<table border=\"1\" class=\"dataframe\">\n",
       "  <thead>\n",
       "    <tr style=\"text-align: right;\">\n",
       "      <th></th>\n",
       "      <th>Police_ref</th>\n",
       "      <th>Casualties</th>\n",
       "      <th>Vehicles</th>\n",
       "      <th>Roadnum1</th>\n",
       "      <th>Speed_Lim</th>\n",
       "      <th>Sev</th>\n",
       "      <th>Road</th>\n",
       "    </tr>\n",
       "  </thead>\n",
       "  <tbody>\n",
       "    <tr>\n",
       "      <th>0</th>\n",
       "      <td>18263388</td>\n",
       "      <td>1</td>\n",
       "      <td>2</td>\n",
       "      <td>0</td>\n",
       "      <td>30</td>\n",
       "      <td>2</td>\n",
       "      <td>2</td>\n",
       "    </tr>\n",
       "    <tr>\n",
       "      <th>1</th>\n",
       "      <td>18257386</td>\n",
       "      <td>2</td>\n",
       "      <td>2</td>\n",
       "      <td>1</td>\n",
       "      <td>40</td>\n",
       "      <td>3</td>\n",
       "      <td>2</td>\n",
       "    </tr>\n",
       "    <tr>\n",
       "      <th>2</th>\n",
       "      <td>18259484</td>\n",
       "      <td>1</td>\n",
       "      <td>1</td>\n",
       "      <td>1368</td>\n",
       "      <td>30</td>\n",
       "      <td>3</td>\n",
       "      <td>1</td>\n",
       "    </tr>\n",
       "    <tr>\n",
       "      <th>3</th>\n",
       "      <td>18257077</td>\n",
       "      <td>1</td>\n",
       "      <td>2</td>\n",
       "      <td>0</td>\n",
       "      <td>20</td>\n",
       "      <td>3</td>\n",
       "      <td>1</td>\n",
       "    </tr>\n",
       "    <tr>\n",
       "      <th>4</th>\n",
       "      <td>18255977</td>\n",
       "      <td>1</td>\n",
       "      <td>2</td>\n",
       "      <td>1096</td>\n",
       "      <td>50</td>\n",
       "      <td>3</td>\n",
       "      <td>2</td>\n",
       "    </tr>\n",
       "  </tbody>\n",
       "</table>\n",
       "</div>"
      ],
      "text/plain": [
       "   Police_ref  Casualties  Vehicles  Roadnum1  Speed_Lim  Sev  Road\n",
       "0    18263388           1         2         0         30    2     2\n",
       "1    18257386           2         2         1         40    3     2\n",
       "2    18259484           1         1      1368         30    3     1\n",
       "3    18257077           1         2         0         20    3     1\n",
       "4    18255977           1         2      1096         50    3     2"
      ]
     },
     "execution_count": 35,
     "metadata": {},
     "output_type": "execute_result"
    }
   ],
   "source": [
    "df.head()\n"
   ]
  },
  {
   "cell_type": "code",
   "execution_count": 36,
   "metadata": {},
   "outputs": [],
   "source": [
    "vis_dict ={'1. Daylight' : 1, '4. Darkness: street lights present and lit' : 4, '5. Darkness: street lights present but unlit' : 5,\n",
    "           '6. Darkness: no street lighting' : 6, '7. Darkness: street lighting unknown' : 7}\n",
    "            "
   ]
  },
  {
   "cell_type": "code",
   "execution_count": 37,
   "metadata": {},
   "outputs": [
    {
     "name": "stderr",
     "output_type": "stream",
     "text": [
      "/opt/conda/envs/Python36/lib/python3.6/site-packages/ipykernel/__main__.py:1: SettingWithCopyWarning: \n",
      "A value is trying to be set on a copy of a slice from a DataFrame.\n",
      "Try using .loc[row_indexer,col_indexer] = value instead\n",
      "\n",
      "See the caveats in the documentation: http://pandas.pydata.org/pandas-docs/stable/indexing.html#indexing-view-versus-copy\n",
      "  if __name__ == '__main__':\n"
     ]
    }
   ],
   "source": [
    "df['Vis'] = df_data_1['Visibility'].apply(set_value, args =(vis_dict, ))  "
   ]
  },
  {
   "cell_type": "code",
   "execution_count": 38,
   "metadata": {},
   "outputs": [
    {
     "data": {
      "text/html": [
       "<div>\n",
       "<style scoped>\n",
       "    .dataframe tbody tr th:only-of-type {\n",
       "        vertical-align: middle;\n",
       "    }\n",
       "\n",
       "    .dataframe tbody tr th {\n",
       "        vertical-align: top;\n",
       "    }\n",
       "\n",
       "    .dataframe thead th {\n",
       "        text-align: right;\n",
       "    }\n",
       "</style>\n",
       "<table border=\"1\" class=\"dataframe\">\n",
       "  <thead>\n",
       "    <tr style=\"text-align: right;\">\n",
       "      <th></th>\n",
       "      <th>Police_ref</th>\n",
       "      <th>Casualties</th>\n",
       "      <th>Vehicles</th>\n",
       "      <th>Roadnum1</th>\n",
       "      <th>Speed_Lim</th>\n",
       "      <th>Sev</th>\n",
       "      <th>Road</th>\n",
       "      <th>Vis</th>\n",
       "    </tr>\n",
       "  </thead>\n",
       "  <tbody>\n",
       "    <tr>\n",
       "      <th>0</th>\n",
       "      <td>18263388</td>\n",
       "      <td>1</td>\n",
       "      <td>2</td>\n",
       "      <td>0</td>\n",
       "      <td>30</td>\n",
       "      <td>2</td>\n",
       "      <td>2</td>\n",
       "      <td>4</td>\n",
       "    </tr>\n",
       "    <tr>\n",
       "      <th>1</th>\n",
       "      <td>18257386</td>\n",
       "      <td>2</td>\n",
       "      <td>2</td>\n",
       "      <td>1</td>\n",
       "      <td>40</td>\n",
       "      <td>3</td>\n",
       "      <td>2</td>\n",
       "      <td>6</td>\n",
       "    </tr>\n",
       "    <tr>\n",
       "      <th>2</th>\n",
       "      <td>18259484</td>\n",
       "      <td>1</td>\n",
       "      <td>1</td>\n",
       "      <td>1368</td>\n",
       "      <td>30</td>\n",
       "      <td>3</td>\n",
       "      <td>1</td>\n",
       "      <td>6</td>\n",
       "    </tr>\n",
       "    <tr>\n",
       "      <th>3</th>\n",
       "      <td>18257077</td>\n",
       "      <td>1</td>\n",
       "      <td>2</td>\n",
       "      <td>0</td>\n",
       "      <td>20</td>\n",
       "      <td>3</td>\n",
       "      <td>1</td>\n",
       "      <td>4</td>\n",
       "    </tr>\n",
       "    <tr>\n",
       "      <th>4</th>\n",
       "      <td>18255977</td>\n",
       "      <td>1</td>\n",
       "      <td>2</td>\n",
       "      <td>1096</td>\n",
       "      <td>50</td>\n",
       "      <td>3</td>\n",
       "      <td>2</td>\n",
       "      <td>6</td>\n",
       "    </tr>\n",
       "  </tbody>\n",
       "</table>\n",
       "</div>"
      ],
      "text/plain": [
       "   Police_ref  Casualties  Vehicles  Roadnum1  Speed_Lim  Sev  Road  Vis\n",
       "0    18263388           1         2         0         30    2     2    4\n",
       "1    18257386           2         2         1         40    3     2    6\n",
       "2    18259484           1         1      1368         30    3     1    6\n",
       "3    18257077           1         2         0         20    3     1    4\n",
       "4    18255977           1         2      1096         50    3     2    6"
      ]
     },
     "execution_count": 38,
     "metadata": {},
     "output_type": "execute_result"
    }
   ],
   "source": [
    "df.head()\n"
   ]
  },
  {
   "cell_type": "code",
   "execution_count": 39,
   "metadata": {},
   "outputs": [
    {
     "data": {
      "text/plain": [
       "Police_ref    0\n",
       "Casualties    0\n",
       "Vehicles      0\n",
       "Roadnum1      0\n",
       "Speed_Lim     0\n",
       "Sev           0\n",
       "Road          0\n",
       "Vis           0\n",
       "dtype: int64"
      ]
     },
     "execution_count": 39,
     "metadata": {},
     "output_type": "execute_result"
    }
   ],
   "source": [
    "df.isnull().sum() "
   ]
  },
  {
   "cell_type": "code",
   "execution_count": 45,
   "metadata": {},
   "outputs": [],
   "source": [
    "weat_dict ={'1. Fine without high winds' : 1, '2. Raining without high winds' : 2, '3. Snowing without high winds' : 3,\n",
    "           '4. Fine with high winds' : 4, '5. Raining with high winds' : 5, '6. Snowing with high winds' : 6, \n",
    "          '7. Fog or mist' : 7, '8. Other' : 8, '9. Unknown' : 9\n",
    "           } \n",
    "            "
   ]
  },
  {
   "cell_type": "code",
   "execution_count": 46,
   "metadata": {
    "scrolled": false
   },
   "outputs": [
    {
     "name": "stderr",
     "output_type": "stream",
     "text": [
      "/opt/conda/envs/Python36/lib/python3.6/site-packages/ipykernel/__main__.py:1: SettingWithCopyWarning: \n",
      "A value is trying to be set on a copy of a slice from a DataFrame.\n",
      "Try using .loc[row_indexer,col_indexer] = value instead\n",
      "\n",
      "See the caveats in the documentation: http://pandas.pydata.org/pandas-docs/stable/indexing.html#indexing-view-versus-copy\n",
      "  if __name__ == '__main__':\n"
     ]
    }
   ],
   "source": [
    "df['Weat'] = df_data_1['Weather'].apply(set_value, args =(weat_dict, ))  "
   ]
  },
  {
   "cell_type": "code",
   "execution_count": 48,
   "metadata": {},
   "outputs": [
    {
     "data": {
      "text/html": [
       "<div>\n",
       "<style scoped>\n",
       "    .dataframe tbody tr th:only-of-type {\n",
       "        vertical-align: middle;\n",
       "    }\n",
       "\n",
       "    .dataframe tbody tr th {\n",
       "        vertical-align: top;\n",
       "    }\n",
       "\n",
       "    .dataframe thead th {\n",
       "        text-align: right;\n",
       "    }\n",
       "</style>\n",
       "<table border=\"1\" class=\"dataframe\">\n",
       "  <thead>\n",
       "    <tr style=\"text-align: right;\">\n",
       "      <th></th>\n",
       "      <th>Police_ref</th>\n",
       "      <th>Casualties</th>\n",
       "      <th>Vehicles</th>\n",
       "      <th>Roadnum1</th>\n",
       "      <th>Speed_Lim</th>\n",
       "      <th>Sev</th>\n",
       "      <th>Road</th>\n",
       "      <th>Vis</th>\n",
       "      <th>Weat</th>\n",
       "    </tr>\n",
       "  </thead>\n",
       "  <tbody>\n",
       "    <tr>\n",
       "      <th>0</th>\n",
       "      <td>18263388</td>\n",
       "      <td>1</td>\n",
       "      <td>2</td>\n",
       "      <td>0</td>\n",
       "      <td>30</td>\n",
       "      <td>2</td>\n",
       "      <td>2</td>\n",
       "      <td>4</td>\n",
       "      <td>1</td>\n",
       "    </tr>\n",
       "    <tr>\n",
       "      <th>1</th>\n",
       "      <td>18257386</td>\n",
       "      <td>2</td>\n",
       "      <td>2</td>\n",
       "      <td>1</td>\n",
       "      <td>40</td>\n",
       "      <td>3</td>\n",
       "      <td>2</td>\n",
       "      <td>6</td>\n",
       "      <td>1</td>\n",
       "    </tr>\n",
       "    <tr>\n",
       "      <th>2</th>\n",
       "      <td>18259484</td>\n",
       "      <td>1</td>\n",
       "      <td>1</td>\n",
       "      <td>1368</td>\n",
       "      <td>30</td>\n",
       "      <td>3</td>\n",
       "      <td>1</td>\n",
       "      <td>6</td>\n",
       "      <td>4</td>\n",
       "    </tr>\n",
       "    <tr>\n",
       "      <th>3</th>\n",
       "      <td>18257077</td>\n",
       "      <td>1</td>\n",
       "      <td>2</td>\n",
       "      <td>0</td>\n",
       "      <td>20</td>\n",
       "      <td>3</td>\n",
       "      <td>1</td>\n",
       "      <td>4</td>\n",
       "      <td>1</td>\n",
       "    </tr>\n",
       "    <tr>\n",
       "      <th>4</th>\n",
       "      <td>18255977</td>\n",
       "      <td>1</td>\n",
       "      <td>2</td>\n",
       "      <td>1096</td>\n",
       "      <td>50</td>\n",
       "      <td>3</td>\n",
       "      <td>2</td>\n",
       "      <td>6</td>\n",
       "      <td>4</td>\n",
       "    </tr>\n",
       "  </tbody>\n",
       "</table>\n",
       "</div>"
      ],
      "text/plain": [
       "   Police_ref  Casualties  Vehicles  Roadnum1  Speed_Lim  Sev  Road  Vis  Weat\n",
       "0    18263388           1         2         0         30    2     2    4     1\n",
       "1    18257386           2         2         1         40    3     2    6     1\n",
       "2    18259484           1         1      1368         30    3     1    6     4\n",
       "3    18257077           1         2         0         20    3     1    4     1\n",
       "4    18255977           1         2      1096         50    3     2    6     4"
      ]
     },
     "execution_count": 48,
     "metadata": {},
     "output_type": "execute_result"
    }
   ],
   "source": [
    "df.head() \n"
   ]
  },
  {
   "cell_type": "code",
   "execution_count": 49,
   "metadata": {},
   "outputs": [
    {
     "data": {
      "text/plain": [
       "Police_ref    0\n",
       "Casualties    0\n",
       "Vehicles      0\n",
       "Roadnum1      0\n",
       "Speed_Lim     0\n",
       "Sev           0\n",
       "Road          0\n",
       "Vis           0\n",
       "Weat          0\n",
       "dtype: int64"
      ]
     },
     "execution_count": 49,
     "metadata": {},
     "output_type": "execute_result"
    }
   ],
   "source": [
    "df.isnull().sum() "
   ]
  },
  {
   "cell_type": "code",
   "execution_count": 51,
   "metadata": {},
   "outputs": [],
   "source": [
    "sum_col = df_data_1['Pedestrian'] + df_data_1['Cycles'] + df_data_1['P2W'] + df_data_1['OAPs'] + df_data_1['Children'] "
   ]
  },
  {
   "cell_type": "code",
   "execution_count": 52,
   "metadata": {},
   "outputs": [
    {
     "name": "stderr",
     "output_type": "stream",
     "text": [
      "/opt/conda/envs/Python36/lib/python3.6/site-packages/ipykernel/__main__.py:1: SettingWithCopyWarning: \n",
      "A value is trying to be set on a copy of a slice from a DataFrame.\n",
      "Try using .loc[row_indexer,col_indexer] = value instead\n",
      "\n",
      "See the caveats in the documentation: http://pandas.pydata.org/pandas-docs/stable/indexing.html#indexing-view-versus-copy\n",
      "  if __name__ == '__main__':\n"
     ]
    }
   ],
   "source": [
    "df['Incidental'] = sum_col "
   ]
  },
  {
   "cell_type": "code",
   "execution_count": 53,
   "metadata": {},
   "outputs": [
    {
     "data": {
      "text/html": [
       "<div>\n",
       "<style scoped>\n",
       "    .dataframe tbody tr th:only-of-type {\n",
       "        vertical-align: middle;\n",
       "    }\n",
       "\n",
       "    .dataframe tbody tr th {\n",
       "        vertical-align: top;\n",
       "    }\n",
       "\n",
       "    .dataframe thead th {\n",
       "        text-align: right;\n",
       "    }\n",
       "</style>\n",
       "<table border=\"1\" class=\"dataframe\">\n",
       "  <thead>\n",
       "    <tr style=\"text-align: right;\">\n",
       "      <th></th>\n",
       "      <th>Police_ref</th>\n",
       "      <th>Casualties</th>\n",
       "      <th>Vehicles</th>\n",
       "      <th>Roadnum1</th>\n",
       "      <th>Speed_Lim</th>\n",
       "      <th>Sev</th>\n",
       "      <th>Road</th>\n",
       "      <th>Vis</th>\n",
       "      <th>Weat</th>\n",
       "      <th>Incidental</th>\n",
       "    </tr>\n",
       "  </thead>\n",
       "  <tbody>\n",
       "    <tr>\n",
       "      <th>0</th>\n",
       "      <td>18263388</td>\n",
       "      <td>1</td>\n",
       "      <td>2</td>\n",
       "      <td>0</td>\n",
       "      <td>30</td>\n",
       "      <td>2</td>\n",
       "      <td>2</td>\n",
       "      <td>4</td>\n",
       "      <td>1</td>\n",
       "      <td>0</td>\n",
       "    </tr>\n",
       "    <tr>\n",
       "      <th>1</th>\n",
       "      <td>18257386</td>\n",
       "      <td>2</td>\n",
       "      <td>2</td>\n",
       "      <td>1</td>\n",
       "      <td>40</td>\n",
       "      <td>3</td>\n",
       "      <td>2</td>\n",
       "      <td>6</td>\n",
       "      <td>1</td>\n",
       "      <td>0</td>\n",
       "    </tr>\n",
       "    <tr>\n",
       "      <th>2</th>\n",
       "      <td>18259484</td>\n",
       "      <td>1</td>\n",
       "      <td>1</td>\n",
       "      <td>1368</td>\n",
       "      <td>30</td>\n",
       "      <td>3</td>\n",
       "      <td>1</td>\n",
       "      <td>6</td>\n",
       "      <td>4</td>\n",
       "      <td>0</td>\n",
       "    </tr>\n",
       "    <tr>\n",
       "      <th>3</th>\n",
       "      <td>18257077</td>\n",
       "      <td>1</td>\n",
       "      <td>2</td>\n",
       "      <td>0</td>\n",
       "      <td>20</td>\n",
       "      <td>3</td>\n",
       "      <td>1</td>\n",
       "      <td>4</td>\n",
       "      <td>1</td>\n",
       "      <td>0</td>\n",
       "    </tr>\n",
       "    <tr>\n",
       "      <th>4</th>\n",
       "      <td>18255977</td>\n",
       "      <td>1</td>\n",
       "      <td>2</td>\n",
       "      <td>1096</td>\n",
       "      <td>50</td>\n",
       "      <td>3</td>\n",
       "      <td>2</td>\n",
       "      <td>6</td>\n",
       "      <td>4</td>\n",
       "      <td>0</td>\n",
       "    </tr>\n",
       "  </tbody>\n",
       "</table>\n",
       "</div>"
      ],
      "text/plain": [
       "   Police_ref  Casualties  Vehicles  Roadnum1  Speed_Lim  Sev  Road  Vis  \\\n",
       "0    18263388           1         2         0         30    2     2    4   \n",
       "1    18257386           2         2         1         40    3     2    6   \n",
       "2    18259484           1         1      1368         30    3     1    6   \n",
       "3    18257077           1         2         0         20    3     1    4   \n",
       "4    18255977           1         2      1096         50    3     2    6   \n",
       "\n",
       "   Weat  Incidental  \n",
       "0     1           0  \n",
       "1     1           0  \n",
       "2     4           0  \n",
       "3     1           0  \n",
       "4     4           0  "
      ]
     },
     "execution_count": 53,
     "metadata": {},
     "output_type": "execute_result"
    }
   ],
   "source": [
    "df.head()  "
   ]
  },
  {
   "cell_type": "code",
   "execution_count": 54,
   "metadata": {},
   "outputs": [
    {
     "data": {
      "text/plain": [
       "Police_ref    0\n",
       "Casualties    0\n",
       "Vehicles      0\n",
       "Roadnum1      0\n",
       "Speed_Lim     0\n",
       "Sev           0\n",
       "Road          0\n",
       "Vis           0\n",
       "Weat          0\n",
       "Incidental    0\n",
       "dtype: int64"
      ]
     },
     "execution_count": 54,
     "metadata": {},
     "output_type": "execute_result"
    }
   ],
   "source": [
    "df.isnull().sum() "
   ]
  },
  {
   "cell_type": "code",
   "execution_count": 62,
   "metadata": {},
   "outputs": [],
   "source": [
    "from sklearn import linear_model \n",
    "from sklearn.model_selection import train_test_split \n",
    "import matplotlib.pyplot as plt "
   ]
  },
  {
   "cell_type": "code",
   "execution_count": 68,
   "metadata": {},
   "outputs": [],
   "source": [
    "from sklearn.linear_model import LogisticRegression "
   ]
  },
  {
   "cell_type": "code",
   "execution_count": 78,
   "metadata": {},
   "outputs": [
    {
     "data": {
      "text/plain": [
       "array([[ 2,  4,  1, 30],\n",
       "       [ 2,  6,  1, 40],\n",
       "       [ 1,  6,  4, 30],\n",
       "       [ 1,  4,  1, 20],\n",
       "       [ 2,  6,  4, 50]])"
      ]
     },
     "execution_count": 78,
     "metadata": {},
     "output_type": "execute_result"
    }
   ],
   "source": [
    "X = np.asarray(df[['Road', 'Vis', 'Weat', 'Speed_Lim']]) \n",
    "X[0:5] "
   ]
  },
  {
   "cell_type": "code",
   "execution_count": 80,
   "metadata": {},
   "outputs": [
    {
     "data": {
      "text/html": [
       "<div>\n",
       "<style scoped>\n",
       "    .dataframe tbody tr th:only-of-type {\n",
       "        vertical-align: middle;\n",
       "    }\n",
       "\n",
       "    .dataframe tbody tr th {\n",
       "        vertical-align: top;\n",
       "    }\n",
       "\n",
       "    .dataframe thead th {\n",
       "        text-align: right;\n",
       "    }\n",
       "</style>\n",
       "<table border=\"1\" class=\"dataframe\">\n",
       "  <thead>\n",
       "    <tr style=\"text-align: right;\">\n",
       "      <th></th>\n",
       "      <th>Casualties</th>\n",
       "    </tr>\n",
       "  </thead>\n",
       "  <tbody>\n",
       "    <tr>\n",
       "      <th>0</th>\n",
       "      <td>1</td>\n",
       "    </tr>\n",
       "    <tr>\n",
       "      <th>1</th>\n",
       "      <td>2</td>\n",
       "    </tr>\n",
       "    <tr>\n",
       "      <th>2</th>\n",
       "      <td>1</td>\n",
       "    </tr>\n",
       "    <tr>\n",
       "      <th>3</th>\n",
       "      <td>1</td>\n",
       "    </tr>\n",
       "    <tr>\n",
       "      <th>4</th>\n",
       "      <td>1</td>\n",
       "    </tr>\n",
       "  </tbody>\n",
       "</table>\n",
       "</div>"
      ],
      "text/plain": [
       "   Casualties\n",
       "0           1\n",
       "1           2\n",
       "2           1\n",
       "3           1\n",
       "4           1"
      ]
     },
     "execution_count": 80,
     "metadata": {},
     "output_type": "execute_result"
    }
   ],
   "source": [
    "y = df[['Casualties']] \n",
    "y[0:5] "
   ]
  },
  {
   "cell_type": "code",
   "execution_count": 82,
   "metadata": {},
   "outputs": [],
   "source": [
    "from sklearn import preprocessing "
   ]
  },
  {
   "cell_type": "code",
   "execution_count": 83,
   "metadata": {},
   "outputs": [
    {
     "name": "stderr",
     "output_type": "stream",
     "text": [
      "/opt/conda/envs/Python36/lib/python3.6/site-packages/sklearn/utils/validation.py:595: DataConversionWarning: Data with input dtype int64 was converted to float64 by StandardScaler.\n",
      "  warnings.warn(msg, DataConversionWarning)\n",
      "/opt/conda/envs/Python36/lib/python3.6/site-packages/sklearn/utils/validation.py:595: DataConversionWarning: Data with input dtype int64 was converted to float64 by StandardScaler.\n",
      "  warnings.warn(msg, DataConversionWarning)\n"
     ]
    }
   ],
   "source": [
    "X = preprocessing.StandardScaler().fit(X).transform(X) "
   ]
  },
  {
   "cell_type": "code",
   "execution_count": 84,
   "metadata": {},
   "outputs": [
    {
     "data": {
      "text/plain": [
       "array([[ 1.27756184,  1.0778083 , -0.33360393, -0.81710103],\n",
       "       [ 1.27756184,  2.18008443, -0.33360393, -0.20512428],\n",
       "       [-0.53231743,  2.18008443,  1.50854403, -0.81710103],\n",
       "       [-0.53231743,  1.0778083 , -0.33360393, -1.42907777],\n",
       "       [ 1.27756184,  2.18008443,  1.50854403,  0.40685246]])"
      ]
     },
     "execution_count": 84,
     "metadata": {},
     "output_type": "execute_result"
    }
   ],
   "source": [
    "X[0:5] "
   ]
  },
  {
   "cell_type": "code",
   "execution_count": 85,
   "metadata": {},
   "outputs": [],
   "source": [
    "from sklearn.model_selection import train_test_split "
   ]
  },
  {
   "cell_type": "code",
   "execution_count": 86,
   "metadata": {},
   "outputs": [],
   "source": [
    "X_train, X_test, y_train, y_test = train_test_split(X, y, test_size=0.5) "
   ]
  },
  {
   "cell_type": "code",
   "execution_count": 87,
   "metadata": {},
   "outputs": [
    {
     "name": "stdout",
     "output_type": "stream",
     "text": [
      "Train set: (901, 4) (901, 1)\n"
     ]
    }
   ],
   "source": [
    "print('Train set:', X_train.shape, y_train.shape) "
   ]
  },
  {
   "cell_type": "code",
   "execution_count": 88,
   "metadata": {},
   "outputs": [
    {
     "name": "stdout",
     "output_type": "stream",
     "text": [
      "Test set: (901, 4) (901, 1)\n"
     ]
    }
   ],
   "source": [
    "print('Test set:', X_test.shape, y_test.shape) "
   ]
  },
  {
   "cell_type": "code",
   "execution_count": 89,
   "metadata": {},
   "outputs": [],
   "source": [
    "from sklearn.metrics import confusion_matrix "
   ]
  },
  {
   "cell_type": "code",
   "execution_count": 91,
   "metadata": {
    "scrolled": true
   },
   "outputs": [
    {
     "name": "stderr",
     "output_type": "stream",
     "text": [
      "/opt/conda/envs/Python36/lib/python3.6/site-packages/sklearn/utils/validation.py:761: DataConversionWarning: A column-vector y was passed when a 1d array was expected. Please change the shape of y to (n_samples, ), for example using ravel().\n",
      "  y = column_or_1d(y, warn=True)\n",
      "/opt/conda/envs/Python36/lib/python3.6/site-packages/sklearn/linear_model/logistic.py:460: FutureWarning: Default multi_class will be changed to 'auto' in 0.22. Specify the multi_class option to silence this warning.\n",
      "  \"this warning.\", FutureWarning)\n"
     ]
    }
   ],
   "source": [
    "LR = LogisticRegression(solver='liblinear').fit(X_train, y_train) "
   ]
  },
  {
   "cell_type": "code",
   "execution_count": 92,
   "metadata": {},
   "outputs": [],
   "source": [
    "yhat = LR.predict(X_test) "
   ]
  },
  {
   "cell_type": "code",
   "execution_count": 93,
   "metadata": {},
   "outputs": [
    {
     "data": {
      "text/plain": [
       "array([1, 1, 2, 1, 1, 1, 1, 1, 1, 1, 1, 1, 1, 1, 1, 1, 1, 1, 1, 1, 1, 1,\n",
       "       1, 1, 1, 1, 1, 1, 1, 1, 1, 1, 1, 1, 1, 1, 1, 1, 1, 1, 1, 1, 1, 1,\n",
       "       1, 1, 2, 1, 1, 1, 1, 1, 1, 1, 1, 1, 1, 1, 1, 1, 1, 1, 1, 1, 1, 1,\n",
       "       1, 1, 1, 1, 1, 1, 1, 1, 1, 1, 1, 1, 1, 1, 1, 1, 1, 1, 1, 1, 1, 1,\n",
       "       1, 1, 1, 1, 1, 1, 1, 1, 1, 1, 1, 1, 1, 1, 1, 1, 1, 1, 1, 1, 1, 1,\n",
       "       1, 1, 1, 1, 1, 1, 2, 1, 1, 1, 1, 1, 1, 1, 1, 1, 1, 1, 1, 1, 1, 1,\n",
       "       1, 1, 1, 1, 1, 1, 1, 1, 1, 1, 1, 1, 1, 1, 1, 1, 1, 1, 1, 1, 1, 1,\n",
       "       1, 1, 1, 1, 1, 1, 1, 1, 1, 1, 1, 1, 1, 1, 1, 1, 1, 1, 1, 1, 1, 1,\n",
       "       1, 1, 1, 1, 1, 1, 1, 1, 1, 1, 1, 1, 1, 1, 1, 1, 1, 1, 1, 1, 1, 1,\n",
       "       1, 1, 1, 1, 1, 1, 1, 1, 1, 1, 1, 1, 1, 1, 1, 1, 1, 1, 1, 1, 1, 1,\n",
       "       1, 1, 1, 1, 1, 1, 1, 1, 1, 1, 1, 1, 1, 1, 1, 1, 1, 1, 1, 1, 1, 1,\n",
       "       1, 1, 1, 1, 1, 1, 1, 1, 1, 1, 1, 1, 1, 2, 1, 1, 1, 1, 1, 1, 1, 1,\n",
       "       1, 1, 1, 1, 1, 1, 1, 1, 1, 1, 1, 1, 1, 1, 1, 1, 1, 1, 1, 1, 1, 1,\n",
       "       1, 1, 1, 1, 1, 1, 1, 1, 1, 1, 1, 1, 1, 1, 1, 1, 1, 1, 1, 1, 1, 1,\n",
       "       1, 1, 1, 1, 1, 1, 1, 1, 1, 1, 1, 1, 1, 1, 1, 1, 1, 1, 1, 1, 1, 1,\n",
       "       1, 1, 1, 1, 1, 1, 1, 1, 1, 1, 1, 1, 1, 1, 1, 1, 1, 1, 1, 1, 1, 1,\n",
       "       1, 1, 1, 1, 1, 1, 1, 1, 1, 1, 1, 1, 1, 1, 1, 1, 1, 1, 1, 1, 1, 1,\n",
       "       1, 1, 1, 1, 1, 1, 1, 1, 1, 1, 1, 1, 1, 1, 1, 1, 1, 1, 1, 1, 1, 1,\n",
       "       1, 1, 1, 1, 1, 1, 1, 1, 1, 1, 1, 1, 1, 1, 1, 1, 1, 1, 1, 1, 1, 1,\n",
       "       1, 1, 1, 1, 1, 1, 1, 1, 1, 1, 1, 1, 1, 1, 1, 1, 1, 1, 1, 1, 1, 1,\n",
       "       1, 1, 1, 1, 1, 1, 1, 1, 1, 1, 1, 1, 1, 1, 1, 1, 1, 1, 1, 1, 1, 1,\n",
       "       1, 1, 1, 1, 1, 1, 1, 1, 1, 1, 1, 1, 1, 1, 1, 1, 1, 1, 1, 1, 1, 1,\n",
       "       1, 1, 1, 1, 1, 1, 1, 1, 1, 1, 1, 1, 1, 1, 1, 1, 1, 1, 1, 1, 1, 1,\n",
       "       1, 1, 1, 1, 1, 1, 1, 1, 1, 1, 1, 1, 1, 1, 1, 1, 1, 1, 1, 1, 1, 1,\n",
       "       1, 1, 1, 1, 1, 1, 1, 1, 1, 1, 1, 1, 1, 1, 1, 1, 1, 1, 1, 1, 1, 1,\n",
       "       1, 1, 1, 1, 1, 1, 1, 1, 1, 1, 1, 1, 1, 1, 1, 1, 1, 1, 1, 1, 1, 1,\n",
       "       1, 1, 1, 1, 1, 1, 1, 1, 1, 1, 1, 1, 1, 1, 1, 1, 1, 1, 1, 1, 1, 1,\n",
       "       1, 1, 1, 1, 1, 1, 1, 1, 1, 1, 1, 1, 1, 1, 1, 1, 1, 1, 1, 1, 1, 1,\n",
       "       1, 1, 1, 1, 1, 1, 1, 1, 1, 1, 1, 1, 1, 1, 1, 1, 1, 1, 1, 1, 1, 1,\n",
       "       1, 1, 1, 1, 1, 1, 1, 1, 1, 1, 1, 1, 1, 1, 1, 1, 1, 1, 1, 1, 1, 1,\n",
       "       1, 1, 1, 1, 1, 1, 1, 1, 1, 1, 1, 1, 1, 1, 1, 1, 1, 1, 1, 1, 1, 1,\n",
       "       1, 1, 1, 1, 1, 1, 1, 1, 1, 1, 1, 1, 1, 1, 1, 1, 1, 1, 1, 1, 1, 1,\n",
       "       1, 1, 1, 1, 1, 1, 1, 1, 1, 1, 1, 1, 1, 1, 1, 1, 1, 1, 1, 1, 1, 1,\n",
       "       1, 1, 1, 1, 1, 1, 1, 1, 1, 1, 1, 1, 1, 1, 1, 1, 1, 1, 1, 1, 1, 1,\n",
       "       1, 1, 1, 1, 1, 1, 1, 1, 1, 1, 1, 1, 1, 1, 1, 1, 1, 1, 1, 1, 1, 1,\n",
       "       1, 1, 1, 1, 1, 1, 1, 1, 1, 1, 1, 1, 1, 1, 1, 1, 1, 1, 1, 1, 1, 1,\n",
       "       1, 1, 1, 1, 1, 1, 1, 1, 1, 1, 1, 1, 1, 1, 1, 1, 1, 1, 1, 1, 1, 1,\n",
       "       1, 1, 1, 1, 1, 1, 1, 1, 1, 1, 1, 1, 1, 1, 1, 1, 1, 1, 1, 1, 1, 1,\n",
       "       1, 1, 1, 1, 1, 1, 1, 1, 1, 1, 1, 1, 1, 1, 1, 1, 1, 1, 1, 1, 1, 1,\n",
       "       1, 1, 1, 1, 1, 1, 1, 1, 1, 1, 1, 1, 1, 1, 1, 1, 1, 1, 1, 1, 1, 1,\n",
       "       1, 1, 1, 1, 1, 1, 1, 1, 1, 1, 1, 1, 1, 1, 1, 1, 1, 1, 1, 1, 1])"
      ]
     },
     "execution_count": 93,
     "metadata": {},
     "output_type": "execute_result"
    }
   ],
   "source": [
    "yhat "
   ]
  },
  {
   "cell_type": "code",
   "execution_count": 96,
   "metadata": {},
   "outputs": [],
   "source": [
    "yhat_prob = LR.predict_proba(X_test) "
   ]
  },
  {
   "cell_type": "code",
   "execution_count": 97,
   "metadata": {},
   "outputs": [
    {
     "data": {
      "text/plain": [
       "array([[0.60083333, 0.24668919, 0.0804246 , ..., 0.01543285, 0.00826406,\n",
       "        0.00763526],\n",
       "       [0.80651844, 0.1152144 , 0.03767528, ..., 0.00496825, 0.00441969,\n",
       "        0.00561676],\n",
       "       [0.39237384, 0.45425546, 0.09352499, ..., 0.01391918, 0.01676548,\n",
       "        0.0064098 ],\n",
       "       ...,\n",
       "       [0.81664294, 0.10455399, 0.03947264, ..., 0.00545041, 0.00367513,\n",
       "        0.00411181],\n",
       "       [0.76850789, 0.14164905, 0.04424076, ..., 0.00634133, 0.00534799,\n",
       "        0.00614904],\n",
       "       [0.54651987, 0.29584604, 0.08223638, ..., 0.01660058, 0.01133867,\n",
       "        0.00875147]])"
      ]
     },
     "execution_count": 97,
     "metadata": {},
     "output_type": "execute_result"
    }
   ],
   "source": [
    "yhat_prob "
   ]
  },
  {
   "cell_type": "code",
   "execution_count": 105,
   "metadata": {},
   "outputs": [],
   "source": [
    "from sklearn.metrics import f1_score \n",
    "from sklearn.metrics import jaccard_similarity_score "
   ]
  },
  {
   "cell_type": "code",
   "execution_count": 106,
   "metadata": {},
   "outputs": [
    {
     "name": "stderr",
     "output_type": "stream",
     "text": [
      "/opt/conda/envs/Python36/lib/python3.6/site-packages/sklearn/metrics/classification.py:1143: UndefinedMetricWarning: F-score is ill-defined and being set to 0.0 in labels with no predicted samples.\n",
      "  'precision', 'predicted', average, warn_for)\n"
     ]
    },
    {
     "data": {
      "text/plain": [
       "0.6353476131233422"
      ]
     },
     "execution_count": 106,
     "metadata": {},
     "output_type": "execute_result"
    }
   ],
   "source": [
    "f1_score(y_test, yhat, average='weighted') "
   ]
  },
  {
   "cell_type": "code",
   "execution_count": 107,
   "metadata": {},
   "outputs": [
    {
     "data": {
      "text/plain": [
       "0.7413984461709212"
      ]
     },
     "execution_count": 107,
     "metadata": {},
     "output_type": "execute_result"
    }
   ],
   "source": [
    "jaccard_similarity_score(y_test, yhat) "
   ]
  },
  {
   "cell_type": "code",
   "execution_count": 108,
   "metadata": {},
   "outputs": [
    {
     "name": "stdout",
     "output_type": "stream",
     "text": [
      "Train set: [[ 1.27756184  1.0778083  -0.33360393 -0.81710103]\n",
      " [ 1.27756184  2.18008443 -0.33360393  1.01882921]\n",
      " [ 1.27756184 -0.57560591 -0.33360393  1.01882921]\n",
      " ...\n",
      " [-0.53231743  2.18008443 -0.33360393  1.63080595]\n",
      " [-0.53231743 -0.57560591 -0.33360393 -0.20512428]\n",
      " [-0.53231743  2.7312225  -0.33360393  1.63080595]]       Casualties\n",
      "1628           1\n",
      "17             3\n",
      "25             1\n",
      "873            1\n",
      "370            1\n",
      "722            1\n",
      "1222           1\n",
      "1060           1\n",
      "379            1\n",
      "1784           2\n",
      "642            3\n",
      "1357           1\n",
      "1491           1\n",
      "1532           4\n",
      "347            1\n",
      "1792           1\n",
      "1739           1\n",
      "1189           1\n",
      "1509           2\n",
      "1383           1\n",
      "465            1\n",
      "1449           1\n",
      "459            2\n",
      "1467           2\n",
      "736            1\n",
      "601            1\n",
      "1730           1\n",
      "131            2\n",
      "1221           1\n",
      "1100           1\n",
      "...          ...\n",
      "1533           1\n",
      "422            1\n",
      "1737           2\n",
      "149            1\n",
      "533            2\n",
      "183            1\n",
      "1024           2\n",
      "1411           2\n",
      "1588           1\n",
      "1150           1\n",
      "1318           1\n",
      "1068           3\n",
      "946            1\n",
      "1700           1\n",
      "1337           2\n",
      "951            1\n",
      "823            1\n",
      "1630           1\n",
      "109            1\n",
      "1788           1\n",
      "1082           1\n",
      "393            1\n",
      "818            3\n",
      "456            1\n",
      "1623           2\n",
      "360            3\n",
      "709            1\n",
      "439            2\n",
      "174            2\n",
      "1146           1\n",
      "\n",
      "[901 rows x 1 columns]\n",
      "Test set: [[-0.53231743 -0.57560591 -0.33360393  1.63080595]\n",
      " [-0.53231743  1.0778083  -0.33360393 -0.81710103]\n",
      " [ 1.27756184 -0.57560591 -0.33360393  1.63080595]\n",
      " ...\n",
      " [-0.53231743 -0.57560591 -0.33360393 -0.81710103]\n",
      " [-0.53231743 -0.57560591 -0.33360393 -0.81710103]\n",
      " [-0.53231743 -0.57560591 -0.33360393  1.63080595]]       Casualties\n",
      "694            1\n",
      "336            1\n",
      "662            3\n",
      "1396           1\n",
      "1635           2\n",
      "1365           3\n",
      "1267           2\n",
      "1504           1\n",
      "868            3\n",
      "600            5\n",
      "556            1\n",
      "859            2\n",
      "1769           1\n",
      "487            1\n",
      "550            1\n",
      "869            1\n",
      "497            1\n",
      "1011           1\n",
      "126            1\n",
      "213            1\n",
      "1641           1\n",
      "230            1\n",
      "276            1\n",
      "446            3\n",
      "1236           1\n",
      "1059           2\n",
      "885            1\n",
      "518            3\n",
      "743            1\n",
      "376            1\n",
      "...          ...\n",
      "822            1\n",
      "874            1\n",
      "1128           4\n",
      "1296           1\n",
      "960            2\n",
      "1466           1\n",
      "402            1\n",
      "441            1\n",
      "1134           2\n",
      "786            1\n",
      "1143           2\n",
      "179            2\n",
      "1076           2\n",
      "777            2\n",
      "1194           1\n",
      "1779           1\n",
      "46             1\n",
      "1563           1\n",
      "1301           1\n",
      "457            1\n",
      "1019           3\n",
      "417            1\n",
      "1716           1\n",
      "440            1\n",
      "215            1\n",
      "1709           3\n",
      "1203           2\n",
      "278            1\n",
      "735            4\n",
      "695            1\n",
      "\n",
      "[901 rows x 1 columns]\n"
     ]
    }
   ],
   "source": [
    "X_train, X_test, y_train, y_test = train_test_split( X, y, test_size=0.5, random_state=4)\n",
    "print ('Train set:', X_train,  y_train)\n",
    "print ('Test set:', X_test,  y_test) "
   ]
  },
  {
   "cell_type": "code",
   "execution_count": 109,
   "metadata": {},
   "outputs": [
    {
     "name": "stderr",
     "output_type": "stream",
     "text": [
      "/opt/conda/envs/Python36/lib/python3.6/site-packages/sklearn/utils/validation.py:761: DataConversionWarning: A column-vector y was passed when a 1d array was expected. Please change the shape of y to (n_samples, ), for example using ravel().\n",
      "  y = column_or_1d(y, warn=True)\n",
      "/opt/conda/envs/Python36/lib/python3.6/site-packages/sklearn/svm/base.py:196: FutureWarning: The default value of gamma will change from 'auto' to 'scale' in version 0.22 to account better for unscaled features. Set gamma explicitly to 'auto' or 'scale' to avoid this warning.\n",
      "  \"avoid this warning.\", FutureWarning)\n"
     ]
    },
    {
     "data": {
      "text/plain": [
       "array([1, 1, 1, 1, 1])"
      ]
     },
     "execution_count": 109,
     "metadata": {},
     "output_type": "execute_result"
    }
   ],
   "source": [
    "from sklearn import svm\n",
    "clf = svm.SVC(kernel='rbf')\n",
    "clf.fit(X_train, y_train)  \n",
    "\n",
    "yhat = clf.predict(X_test)\n",
    "yhat [0:5] \n"
   ]
  },
  {
   "cell_type": "code",
   "execution_count": 110,
   "metadata": {},
   "outputs": [
    {
     "name": "stderr",
     "output_type": "stream",
     "text": [
      "/opt/conda/envs/Python36/lib/python3.6/site-packages/sklearn/metrics/classification.py:1143: UndefinedMetricWarning: F-score is ill-defined and being set to 0.0 in labels with no predicted samples.\n",
      "  'precision', 'predicted', average, warn_for)\n"
     ]
    },
    {
     "data": {
      "text/plain": [
       "0.6284215778710558"
      ]
     },
     "execution_count": 110,
     "metadata": {},
     "output_type": "execute_result"
    }
   ],
   "source": [
    "from sklearn.metrics import f1_score\n",
    "f1_score(y_test, yhat, average='weighted')  "
   ]
  },
  {
   "cell_type": "code",
   "execution_count": 111,
   "metadata": {},
   "outputs": [
    {
     "data": {
      "text/plain": [
       "0.7358490566037735"
      ]
     },
     "execution_count": 111,
     "metadata": {},
     "output_type": "execute_result"
    }
   ],
   "source": [
    "from sklearn.metrics import jaccard_similarity_score\n",
    "jaccard_similarity_score(y_test, yhat) "
   ]
  },
  {
   "cell_type": "code",
   "execution_count": 112,
   "metadata": {},
   "outputs": [],
   "source": [
    "# Import seaborn\n",
    "import seaborn as sns "
   ]
  },
  {
   "cell_type": "code",
   "execution_count": 118,
   "metadata": {},
   "outputs": [],
   "source": [
    "X = np.asarray(df[['Road']]) "
   ]
  },
  {
   "cell_type": "code",
   "execution_count": 119,
   "metadata": {},
   "outputs": [],
   "source": [
    "y = df[['Casualties']]  "
   ]
  },
  {
   "cell_type": "code",
   "execution_count": 120,
   "metadata": {},
   "outputs": [
    {
     "data": {
      "text/plain": [
       "<matplotlib.collections.PathCollection at 0x7f61e4fb15f8>"
      ]
     },
     "execution_count": 120,
     "metadata": {},
     "output_type": "execute_result"
    },
    {
     "data": {
      "image/png": "[encoded data removed]",
      "text/plain": [
       "<Figure size 432x288 with 1 Axes>"
      ]
     },
     "metadata": {
      "needs_background": "light"
     },
     "output_type": "display_data"
    }
   ],
   "source": [
    "plt.scatter(X, y) "
   ]
  },
  {
   "cell_type": "code",
   "execution_count": null,
   "metadata": {},
   "outputs": [],
   "source": []
  }
 ],
 "metadata": {
  "kernelspec": {
   "display_name": "Python 3.6",
   "language": "python",
   "name": "python3"
  },
  "language_info": {
   "codemirror_mode": {
    "name": "ipython",
    "version": 3
   },
   "file_extension": ".py",
   "mimetype": "text/x-python",
   "name": "python",
   "nbconvert_exporter": "python",
   "pygments_lexer": "ipython3",
   "version": "3.6.9"
  }
 },
 "nbformat": 4,
 "nbformat_minor": 1
}
