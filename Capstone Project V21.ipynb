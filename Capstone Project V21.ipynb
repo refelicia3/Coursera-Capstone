{
 "cells": [
  {
   "cell_type": "code",
   "execution_count": 1,
   "metadata": {},
   "outputs": [
    {
     "data": {
      "text/html": [
       "<div>\n",
       "<style scoped>\n",
       "    .dataframe tbody tr th:only-of-type {\n",
       "        vertical-align: middle;\n",
       "    }\n",
       "\n",
       "    .dataframe tbody tr th {\n",
       "        vertical-align: top;\n",
       "    }\n",
       "\n",
       "    .dataframe thead th {\n",
       "        text-align: right;\n",
       "    }\n",
       "</style>\n",
       "<table border=\"1\" class=\"dataframe\">\n",
       "  <thead>\n",
       "    <tr style=\"text-align: right;\">\n",
       "      <th></th>\n",
       "      <th>Date</th>\n",
       "      <th>Police_ref</th>\n",
       "      <th>Easting</th>\n",
       "      <th>Northing</th>\n",
       "      <th>Severity</th>\n",
       "      <th>Road_cond</th>\n",
       "      <th>Visibility</th>\n",
       "      <th>Casualties</th>\n",
       "      <th>Pedestrian</th>\n",
       "      <th>Cycles</th>\n",
       "      <th>...</th>\n",
       "      <th>Cross_ctrl</th>\n",
       "      <th>Cross_fac</th>\n",
       "      <th>Weather</th>\n",
       "      <th>SpCond</th>\n",
       "      <th>Carr_haz</th>\n",
       "      <th>Day</th>\n",
       "      <th>Location</th>\n",
       "      <th>Local_Auth</th>\n",
       "      <th>ReportedAt</th>\n",
       "      <th>Parish</th>\n",
       "    </tr>\n",
       "  </thead>\n",
       "  <tbody>\n",
       "    <tr>\n",
       "      <th>0</th>\n",
       "      <td>20180101</td>\n",
       "      <td>18263388</td>\n",
       "      <td>519784</td>\n",
       "      <td>299454</td>\n",
       "      <td>2. Serious</td>\n",
       "      <td>2. Wet/Damp</td>\n",
       "      <td>4. Darkness: street lights present and lit</td>\n",
       "      <td>1</td>\n",
       "      <td>0</td>\n",
       "      <td>0</td>\n",
       "      <td>...</td>\n",
       "      <td>0. None</td>\n",
       "      <td>1. Zebra crossing</td>\n",
       "      <td>1. Fine without high winds</td>\n",
       "      <td>0</td>\n",
       "      <td>0. None</td>\n",
       "      <td>2. Monday</td>\n",
       "      <td>EASTFIELD ROAD AT JN WITH PADHOLME ROAD</td>\n",
       "      <td>E06000031</td>\n",
       "      <td>1. Yes</td>\n",
       "      <td>181</td>\n",
       "    </tr>\n",
       "    <tr>\n",
       "      <th>1</th>\n",
       "      <td>20180102</td>\n",
       "      <td>18257386</td>\n",
       "      <td>519682</td>\n",
       "      <td>270658</td>\n",
       "      <td>3. Slight</td>\n",
       "      <td>2. Wet/Damp</td>\n",
       "      <td>6. Darkness: no street lighting</td>\n",
       "      <td>2</td>\n",
       "      <td>0</td>\n",
       "      <td>0</td>\n",
       "      <td>...</td>\n",
       "      <td>0. None</td>\n",
       "      <td>0. None within 50m</td>\n",
       "      <td>1. Fine without high winds</td>\n",
       "      <td>0</td>\n",
       "      <td>0. None</td>\n",
       "      <td>3. Tuesday</td>\n",
       "      <td>NEAR BRAMPTON HUT SERVICES SOUTBOUND A1 NEAR J...</td>\n",
       "      <td>E07000011</td>\n",
       "      <td>1. Yes</td>\n",
       "      <td>26</td>\n",
       "    </tr>\n",
       "    <tr>\n",
       "      <th>2</th>\n",
       "      <td>20180103</td>\n",
       "      <td>18259484</td>\n",
       "      <td>540715</td>\n",
       "      <td>242553</td>\n",
       "      <td>3. Slight</td>\n",
       "      <td>1. Dry</td>\n",
       "      <td>6. Darkness: no street lighting</td>\n",
       "      <td>1</td>\n",
       "      <td>0</td>\n",
       "      <td>0</td>\n",
       "      <td>...</td>\n",
       "      <td>0. None</td>\n",
       "      <td>0. None within 50m</td>\n",
       "      <td>4. Fine with high winds</td>\n",
       "      <td>0</td>\n",
       "      <td>0. None</td>\n",
       "      <td>4. Wednesday</td>\n",
       "      <td>BARLEY ROAD B1368</td>\n",
       "      <td>E07000012</td>\n",
       "      <td>1. Yes</td>\n",
       "      <td>95</td>\n",
       "    </tr>\n",
       "  </tbody>\n",
       "</table>\n",
       "<p>3 rows × 34 columns</p>\n",
       "</div>"
      ],
      "text/plain": [
       "       Date  Police_ref  Easting  Northing    Severity    Road_cond  \\\n",
       "0  20180101    18263388   519784    299454  2. Serious  2. Wet/Damp   \n",
       "1  20180102    18257386   519682    270658   3. Slight  2. Wet/Damp   \n",
       "2  20180103    18259484   540715    242553   3. Slight       1. Dry   \n",
       "\n",
       "                                   Visibility  Casualties  Pedestrian  Cycles  \\\n",
       "0  4. Darkness: street lights present and lit           1           0       0   \n",
       "1             6. Darkness: no street lighting           2           0       0   \n",
       "2             6. Darkness: no street lighting           1           0       0   \n",
       "\n",
       "   ...  Cross_ctrl           Cross_fac                     Weather SpCond  \\\n",
       "0  ...     0. None   1. Zebra crossing  1. Fine without high winds      0   \n",
       "1  ...     0. None  0. None within 50m  1. Fine without high winds      0   \n",
       "2  ...     0. None  0. None within 50m     4. Fine with high winds      0   \n",
       "\n",
       "  Carr_haz           Day                                           Location  \\\n",
       "0  0. None     2. Monday            EASTFIELD ROAD AT JN WITH PADHOLME ROAD   \n",
       "1  0. None    3. Tuesday  NEAR BRAMPTON HUT SERVICES SOUTBOUND A1 NEAR J...   \n",
       "2  0. None  4. Wednesday                                  BARLEY ROAD B1368   \n",
       "\n",
       "   Local_Auth ReportedAt  Parish  \n",
       "0   E06000031     1. Yes     181  \n",
       "1   E07000011     1. Yes      26  \n",
       "2   E07000012     1. Yes      95  \n",
       "\n",
       "[3 rows x 34 columns]"
      ]
     },
     "execution_count": 1,
     "metadata": {},
     "output_type": "execute_result"
    }
   ],
   "source": [
    "\n",
    "import types\n",
    "import pandas as pd\n",
    "from botocore.client import Config\n",
    "import ibm_boto3\n",
    "\n",
    "def __iter__(self): return 0\n",
    "\n",
    "# @hidden_cell\n",
    "# The following code accesses a file in your IBM Cloud Object Storage. It includes your credentials.\n",
    "# You might want to remove those credentials before you share the notebook.\n",
    "client_dd4025c279df4f16b91f6cf10cf5b3ed = ibm_boto3.client(service_name='s3',\n",
    "    ibm_api_key_id='7ITxTArvRSJA1HqOVXEDHT9R-zCP2kVgVYLKpJNViGUP',\n",
    "    ibm_auth_endpoint=\"https://iam.cloud.ibm.com/oidc/token\",\n",
    "    config=Config(signature_version='oauth'),\n",
    "    endpoint_url='https://s3-api.us-geo.objectstorage.service.networklayer.com')\n",
    "\n",
    "body = client_dd4025c279df4f16b91f6cf10cf5b3ed.get_object(Bucket='datascience-donotdelete-pr-9i2b3zs0qw19l3',Key='RTC Location 2018.csv')['Body']\n",
    "# add missing __iter__ method, so pandas accepts body as file-like object\n",
    "if not hasattr(body, \"__iter__\"): body.__iter__ = types.MethodType( __iter__, body )\n",
    "\n",
    "df_data_1 = pd.read_csv(body)\n",
    "df_data_1.head(3) \n"
   ]
  },
  {
   "cell_type": "code",
   "execution_count": 2,
   "metadata": {},
   "outputs": [
    {
     "name": "stderr",
     "output_type": "stream",
     "text": [
      "/opt/conda/envs/Python36/lib/python3.6/site-packages/ipykernel/__main__.py:11: SettingWithCopyWarning: \n",
      "A value is trying to be set on a copy of a slice from a DataFrame.\n",
      "Try using .loc[row_indexer,col_indexer] = value instead\n",
      "\n",
      "See the caveats in the documentation: http://pandas.pydata.org/pandas-docs/stable/indexing.html#indexing-view-versus-copy\n",
      "/opt/conda/envs/Python36/lib/python3.6/site-packages/ipykernel/__main__.py:14: SettingWithCopyWarning: \n",
      "A value is trying to be set on a copy of a slice from a DataFrame.\n",
      "Try using .loc[row_indexer,col_indexer] = value instead\n",
      "\n",
      "See the caveats in the documentation: http://pandas.pydata.org/pandas-docs/stable/indexing.html#indexing-view-versus-copy\n",
      "/opt/conda/envs/Python36/lib/python3.6/site-packages/ipykernel/__main__.py:18: SettingWithCopyWarning: \n",
      "A value is trying to be set on a copy of a slice from a DataFrame.\n",
      "Try using .loc[row_indexer,col_indexer] = value instead\n",
      "\n",
      "See the caveats in the documentation: http://pandas.pydata.org/pandas-docs/stable/indexing.html#indexing-view-versus-copy\n",
      "/opt/conda/envs/Python36/lib/python3.6/site-packages/ipykernel/__main__.py:24: SettingWithCopyWarning: \n",
      "A value is trying to be set on a copy of a slice from a DataFrame.\n",
      "Try using .loc[row_indexer,col_indexer] = value instead\n",
      "\n",
      "See the caveats in the documentation: http://pandas.pydata.org/pandas-docs/stable/indexing.html#indexing-view-versus-copy\n",
      "/opt/conda/envs/Python36/lib/python3.6/site-packages/ipykernel/__main__.py:27: SettingWithCopyWarning: \n",
      "A value is trying to be set on a copy of a slice from a DataFrame.\n",
      "Try using .loc[row_indexer,col_indexer] = value instead\n",
      "\n",
      "See the caveats in the documentation: http://pandas.pydata.org/pandas-docs/stable/indexing.html#indexing-view-versus-copy\n"
     ]
    },
    {
     "data": {
      "text/html": [
       "<div>\n",
       "<style scoped>\n",
       "    .dataframe tbody tr th:only-of-type {\n",
       "        vertical-align: middle;\n",
       "    }\n",
       "\n",
       "    .dataframe tbody tr th {\n",
       "        vertical-align: top;\n",
       "    }\n",
       "\n",
       "    .dataframe thead th {\n",
       "        text-align: right;\n",
       "    }\n",
       "</style>\n",
       "<table border=\"1\" class=\"dataframe\">\n",
       "  <thead>\n",
       "    <tr style=\"text-align: right;\">\n",
       "      <th></th>\n",
       "      <th>Police_ref</th>\n",
       "      <th>Casualties</th>\n",
       "      <th>Vehicles</th>\n",
       "      <th>Roadnum1</th>\n",
       "      <th>Speed_Lim</th>\n",
       "      <th>Sev</th>\n",
       "      <th>Road</th>\n",
       "      <th>Vis</th>\n",
       "      <th>Weat</th>\n",
       "      <th>Incidental</th>\n",
       "    </tr>\n",
       "  </thead>\n",
       "  <tbody>\n",
       "    <tr>\n",
       "      <th>0</th>\n",
       "      <td>18263388</td>\n",
       "      <td>1</td>\n",
       "      <td>2</td>\n",
       "      <td>0</td>\n",
       "      <td>30</td>\n",
       "      <td>2</td>\n",
       "      <td>40</td>\n",
       "      <td>40</td>\n",
       "      <td>10</td>\n",
       "      <td>0</td>\n",
       "    </tr>\n",
       "    <tr>\n",
       "      <th>1</th>\n",
       "      <td>18257386</td>\n",
       "      <td>2</td>\n",
       "      <td>2</td>\n",
       "      <td>1</td>\n",
       "      <td>40</td>\n",
       "      <td>3</td>\n",
       "      <td>40</td>\n",
       "      <td>60</td>\n",
       "      <td>10</td>\n",
       "      <td>0</td>\n",
       "    </tr>\n",
       "    <tr>\n",
       "      <th>2</th>\n",
       "      <td>18259484</td>\n",
       "      <td>1</td>\n",
       "      <td>1</td>\n",
       "      <td>1368</td>\n",
       "      <td>30</td>\n",
       "      <td>3</td>\n",
       "      <td>20</td>\n",
       "      <td>60</td>\n",
       "      <td>40</td>\n",
       "      <td>0</td>\n",
       "    </tr>\n",
       "  </tbody>\n",
       "</table>\n",
       "</div>"
      ],
      "text/plain": [
       "   Police_ref  Casualties  Vehicles  Roadnum1  Speed_Lim  Sev  Road  Vis  \\\n",
       "0    18263388           1         2         0         30    2    40   40   \n",
       "1    18257386           2         2         1         40    3    40   60   \n",
       "2    18259484           1         1      1368         30    3    20   60   \n",
       "\n",
       "   Weat  Incidental  \n",
       "0    10           0  \n",
       "1    10           0  \n",
       "2    40           0  "
      ]
     },
     "execution_count": 2,
     "metadata": {},
     "output_type": "execute_result"
    }
   ],
   "source": [
    "df = df_data_1[['Police_ref', 'Casualties', 'Vehicles', 'Roadnum1','Speed_Lim']] \n",
    "\n",
    "import numpy as np\n",
    "# Define a function to map the values \n",
    "def set_value(row_number, assigned_value): \n",
    "    return assigned_value[row_number] \n",
    "\n",
    "# Create the dictionary \n",
    "sev_dict ={'1. Fatal' : 1, '2. Serious' : 2, '3. Slight' : 3}  \n",
    "# Add a new column named 'Sev'\n",
    "df['Sev'] = df_data_1['Severity'].apply(set_value, args =(sev_dict, ))  \n",
    "\n",
    "road_dict ={'1. Dry' : 20, '2. Wet/Damp' : 40, '3. Snow' : 60, '4. Frost/Ice' : 80}     \n",
    "df['Road'] = df_data_1['Road_cond'].apply(set_value, args =(road_dict, ))  \n",
    "\n",
    "vis_dict ={'1. Daylight' : 10, '4. Darkness: street lights present and lit' : 40, '5. Darkness: street lights present but unlit' : 50,\n",
    "           '6. Darkness: no street lighting' : 60, '7. Darkness: street lighting unknown' : 70}\n",
    "df['Vis'] = df_data_1['Visibility'].apply(set_value, args =(vis_dict, ))  \n",
    "\n",
    "weat_dict ={'1. Fine without high winds' : 10, '2. Raining without high winds' : 20, '3. Snowing without high winds' : 30,\n",
    "           '4. Fine with high winds' : 40, '5. Raining with high winds' : 50, '6. Snowing with high winds' : 60, \n",
    "          '7. Fog or mist' : 70, '8. Other' : 75, '9. Unknown' : 80\n",
    "           } \n",
    "df['Weat'] = df_data_1['Weather'].apply(set_value, args =(weat_dict, ))  \n",
    "\n",
    "sum_col = df_data_1['Pedestrian'] + df_data_1['Cycles'] + df_data_1['P2W'] + df_data_1['OAPs'] + df_data_1['Children']\n",
    "df['Incidental'] = sum_col \n",
    "\n",
    "df.head(3) "
   ]
  },
  {
   "cell_type": "code",
   "execution_count": 3,
   "metadata": {},
   "outputs": [],
   "source": [
    "from sklearn import linear_model \n",
    "from sklearn.model_selection import train_test_split \n",
    "import matplotlib.pyplot as plt \n",
    "from sklearn.linear_model import LogisticRegression \n",
    "\n",
    "X = np.asarray(df[['Road', 'Vis', 'Weat', 'Speed_Lim']]) \n",
    "y = df[['Casualties']] "
   ]
  },
  {
   "cell_type": "code",
   "execution_count": 4,
   "metadata": {},
   "outputs": [
    {
     "name": "stderr",
     "output_type": "stream",
     "text": [
      "/opt/conda/envs/Python36/lib/python3.6/site-packages/sklearn/utils/validation.py:595: DataConversionWarning: Data with input dtype int64 was converted to float64 by StandardScaler.\n",
      "  warnings.warn(msg, DataConversionWarning)\n",
      "/opt/conda/envs/Python36/lib/python3.6/site-packages/sklearn/utils/validation.py:595: DataConversionWarning: Data with input dtype int64 was converted to float64 by StandardScaler.\n",
      "  warnings.warn(msg, DataConversionWarning)\n"
     ]
    },
    {
     "data": {
      "text/plain": [
       "array([[ 1.27756184,  1.0778083 , -0.34187424, -0.81710103],\n",
       "       [ 1.27756184,  2.18008443, -0.34187424, -0.20512428],\n",
       "       [-0.53231743,  2.18008443,  1.65507028, -0.81710103],\n",
       "       [-0.53231743,  1.0778083 , -0.34187424, -1.42907777],\n",
       "       [ 1.27756184,  2.18008443,  1.65507028,  0.40685246]])"
      ]
     },
     "execution_count": 4,
     "metadata": {},
     "output_type": "execute_result"
    }
   ],
   "source": [
    "from sklearn import preprocessing \n",
    "X = preprocessing.StandardScaler().fit(X).transform(X) \n",
    "X[0:5] "
   ]
  },
  {
   "cell_type": "code",
   "execution_count": 20,
   "metadata": {},
   "outputs": [
    {
     "name": "stdout",
     "output_type": "stream",
     "text": [
      "Train set: (901, 4) (901, 1)\n",
      "Test set: (901, 4) (901, 1)\n"
     ]
    }
   ],
   "source": [
    "from sklearn.model_selection import train_test_split \n",
    "X_train, X_test, y_train, y_test = train_test_split(X, y, test_size=0.5) \n",
    "\n",
    "print('Train set:', X_train.shape, y_train.shape) \n",
    "print('Test set:', X_test.shape, y_test.shape) "
   ]
  },
  {
   "cell_type": "code",
   "execution_count": 21,
   "metadata": {},
   "outputs": [
    {
     "name": "stderr",
     "output_type": "stream",
     "text": [
      "/opt/conda/envs/Python36/lib/python3.6/site-packages/sklearn/utils/validation.py:761: DataConversionWarning: A column-vector y was passed when a 1d array was expected. Please change the shape of y to (n_samples, ), for example using ravel().\n",
      "  y = column_or_1d(y, warn=True)\n",
      "/opt/conda/envs/Python36/lib/python3.6/site-packages/sklearn/linear_model/logistic.py:460: FutureWarning: Default multi_class will be changed to 'auto' in 0.22. Specify the multi_class option to silence this warning.\n",
      "  \"this warning.\", FutureWarning)\n"
     ]
    }
   ],
   "source": [
    "from sklearn.metrics import confusion_matrix \n",
    "LR = LogisticRegression(solver='liblinear').fit(X_train, y_train) \n",
    "yhat = LR.predict(X_test) "
   ]
  },
  {
   "cell_type": "code",
   "execution_count": 22,
   "metadata": {},
   "outputs": [
    {
     "data": {
      "text/plain": [
       "array([[0.62339562, 0.23051897, 0.0895502 , ..., 0.00578312, 0.01232621,\n",
       "        0.00715713],\n",
       "       [0.79681359, 0.12043357, 0.03811123, ..., 0.0049982 , 0.00570224,\n",
       "        0.00615813],\n",
       "       [0.75464231, 0.14286984, 0.05239337, ..., 0.003791  , 0.00900629,\n",
       "        0.00604108],\n",
       "       ...,\n",
       "       [0.56111037, 0.25555828, 0.10775403, ..., 0.01307897, 0.0125289 ,\n",
       "        0.00883633],\n",
       "       [0.76496598, 0.16487734, 0.03975512, ..., 0.00412233, 0.00444264,\n",
       "        0.00588904],\n",
       "       [0.79681359, 0.12043357, 0.03811123, ..., 0.0049982 , 0.00570224,\n",
       "        0.00615813]])"
      ]
     },
     "execution_count": 22,
     "metadata": {},
     "output_type": "execute_result"
    }
   ],
   "source": [
    "yhat_prob = LR.predict_proba(X_test) \n",
    "yhat_prob "
   ]
  },
  {
   "cell_type": "code",
   "execution_count": 23,
   "metadata": {},
   "outputs": [
    {
     "name": "stderr",
     "output_type": "stream",
     "text": [
      "/opt/conda/envs/Python36/lib/python3.6/site-packages/sklearn/metrics/classification.py:1143: UndefinedMetricWarning: F-score is ill-defined and being set to 0.0 in labels with no predicted samples.\n",
      "  'precision', 'predicted', average, warn_for)\n"
     ]
    },
    {
     "data": {
      "text/plain": [
       "0.6076156349137719"
      ]
     },
     "execution_count": 23,
     "metadata": {},
     "output_type": "execute_result"
    }
   ],
   "source": [
    "from sklearn.metrics import f1_score \n",
    "from sklearn.metrics import jaccard_similarity_score \n",
    "f1_score(y_test, yhat, average='weighted') "
   ]
  },
  {
   "cell_type": "code",
   "execution_count": 24,
   "metadata": {},
   "outputs": [
    {
     "data": {
      "text/plain": [
       "0.7236403995560489"
      ]
     },
     "execution_count": 24,
     "metadata": {},
     "output_type": "execute_result"
    }
   ],
   "source": [
    "jaccard_similarity_score(y_test, yhat) "
   ]
  },
  {
   "cell_type": "code",
   "execution_count": 25,
   "metadata": {},
   "outputs": [
    {
     "name": "stdout",
     "output_type": "stream",
     "text": [
      "Train set: [[ 1.27756184  1.0778083  -0.34187424 -0.81710103]\n",
      " [ 1.27756184  2.18008443 -0.34187424  1.01882921]\n",
      " [ 1.27756184 -0.57560591 -0.34187424  1.01882921]\n",
      " ...\n",
      " [-0.53231743  2.18008443 -0.34187424  1.63080595]\n",
      " [-0.53231743 -0.57560591 -0.34187424 -0.20512428]\n",
      " [-0.53231743  2.7312225  -0.34187424  1.63080595]]       Casualties\n",
      "1628           1\n",
      "17             3\n",
      "25             1\n",
      "873            1\n",
      "370            1\n",
      "722            1\n",
      "1222           1\n",
      "1060           1\n",
      "379            1\n",
      "1784           2\n",
      "642            3\n",
      "1357           1\n",
      "1491           1\n",
      "1532           4\n",
      "347            1\n",
      "1792           1\n",
      "1739           1\n",
      "1189           1\n",
      "1509           2\n",
      "1383           1\n",
      "465            1\n",
      "1449           1\n",
      "459            2\n",
      "1467           2\n",
      "736            1\n",
      "601            1\n",
      "1730           1\n",
      "131            2\n",
      "1221           1\n",
      "1100           1\n",
      "...          ...\n",
      "1533           1\n",
      "422            1\n",
      "1737           2\n",
      "149            1\n",
      "533            2\n",
      "183            1\n",
      "1024           2\n",
      "1411           2\n",
      "1588           1\n",
      "1150           1\n",
      "1318           1\n",
      "1068           3\n",
      "946            1\n",
      "1700           1\n",
      "1337           2\n",
      "951            1\n",
      "823            1\n",
      "1630           1\n",
      "109            1\n",
      "1788           1\n",
      "1082           1\n",
      "393            1\n",
      "818            3\n",
      "456            1\n",
      "1623           2\n",
      "360            3\n",
      "709            1\n",
      "439            2\n",
      "174            2\n",
      "1146           1\n",
      "\n",
      "[901 rows x 1 columns]\n",
      "Test set: [[-0.53231743 -0.57560591 -0.34187424  1.63080595]\n",
      " [-0.53231743  1.0778083  -0.34187424 -0.81710103]\n",
      " [ 1.27756184 -0.57560591 -0.34187424  1.63080595]\n",
      " ...\n",
      " [-0.53231743 -0.57560591 -0.34187424 -0.81710103]\n",
      " [-0.53231743 -0.57560591 -0.34187424 -0.81710103]\n",
      " [-0.53231743 -0.57560591 -0.34187424  1.63080595]]       Casualties\n",
      "694            1\n",
      "336            1\n",
      "662            3\n",
      "1396           1\n",
      "1635           2\n",
      "1365           3\n",
      "1267           2\n",
      "1504           1\n",
      "868            3\n",
      "600            5\n",
      "556            1\n",
      "859            2\n",
      "1769           1\n",
      "487            1\n",
      "550            1\n",
      "869            1\n",
      "497            1\n",
      "1011           1\n",
      "126            1\n",
      "213            1\n",
      "1641           1\n",
      "230            1\n",
      "276            1\n",
      "446            3\n",
      "1236           1\n",
      "1059           2\n",
      "885            1\n",
      "518            3\n",
      "743            1\n",
      "376            1\n",
      "...          ...\n",
      "822            1\n",
      "874            1\n",
      "1128           4\n",
      "1296           1\n",
      "960            2\n",
      "1466           1\n",
      "402            1\n",
      "441            1\n",
      "1134           2\n",
      "786            1\n",
      "1143           2\n",
      "179            2\n",
      "1076           2\n",
      "777            2\n",
      "1194           1\n",
      "1779           1\n",
      "46             1\n",
      "1563           1\n",
      "1301           1\n",
      "457            1\n",
      "1019           3\n",
      "417            1\n",
      "1716           1\n",
      "440            1\n",
      "215            1\n",
      "1709           3\n",
      "1203           2\n",
      "278            1\n",
      "735            4\n",
      "695            1\n",
      "\n",
      "[901 rows x 1 columns]\n"
     ]
    }
   ],
   "source": [
    "X_train, X_test, y_train, y_test = train_test_split( X, y, test_size=0.5, random_state=4)\n",
    "print ('Train set:', X_train,  y_train)\n",
    "print ('Test set:', X_test,  y_test) "
   ]
  },
  {
   "cell_type": "code",
   "execution_count": 26,
   "metadata": {},
   "outputs": [
    {
     "name": "stderr",
     "output_type": "stream",
     "text": [
      "/opt/conda/envs/Python36/lib/python3.6/site-packages/sklearn/utils/validation.py:761: DataConversionWarning: A column-vector y was passed when a 1d array was expected. Please change the shape of y to (n_samples, ), for example using ravel().\n",
      "  y = column_or_1d(y, warn=True)\n",
      "/opt/conda/envs/Python36/lib/python3.6/site-packages/sklearn/svm/base.py:196: FutureWarning: The default value of gamma will change from 'auto' to 'scale' in version 0.22 to account better for unscaled features. Set gamma explicitly to 'auto' or 'scale' to avoid this warning.\n",
      "  \"avoid this warning.\", FutureWarning)\n"
     ]
    },
    {
     "data": {
      "text/plain": [
       "array([1, 1, 1, 1, 1])"
      ]
     },
     "execution_count": 26,
     "metadata": {},
     "output_type": "execute_result"
    }
   ],
   "source": [
    "from sklearn import svm\n",
    "clf = svm.SVC(kernel='rbf')\n",
    "clf.fit(X_train, y_train)  \n",
    "\n",
    "yhat = clf.predict(X_test)\n",
    "yhat [0:5] "
   ]
  },
  {
   "cell_type": "code",
   "execution_count": 27,
   "metadata": {},
   "outputs": [
    {
     "name": "stderr",
     "output_type": "stream",
     "text": [
      "/opt/conda/envs/Python36/lib/python3.6/site-packages/sklearn/metrics/classification.py:1143: UndefinedMetricWarning: F-score is ill-defined and being set to 0.0 in labels with no predicted samples.\n",
      "  'precision', 'predicted', average, warn_for)\n"
     ]
    },
    {
     "data": {
      "text/plain": [
       "0.6284215778710558"
      ]
     },
     "execution_count": 27,
     "metadata": {},
     "output_type": "execute_result"
    }
   ],
   "source": [
    "from sklearn.metrics import f1_score\n",
    "f1_score(y_test, yhat, average='weighted')  "
   ]
  },
  {
   "cell_type": "code",
   "execution_count": 28,
   "metadata": {},
   "outputs": [
    {
     "data": {
      "text/plain": [
       "0.7358490566037735"
      ]
     },
     "execution_count": 28,
     "metadata": {},
     "output_type": "execute_result"
    }
   ],
   "source": [
    "from sklearn.metrics import jaccard_similarity_score\n",
    "jaccard_similarity_score(y_test, yhat) "
   ]
  },
  {
   "cell_type": "code",
   "execution_count": 29,
   "metadata": {},
   "outputs": [
    {
     "data": {
      "text/plain": [
       "<matplotlib.collections.PathCollection at 0x7f9c32670fd0>"
      ]
     },
     "execution_count": 29,
     "metadata": {},
     "output_type": "execute_result"
    },
    {
     "data": {
      "image/png": "[encoded data removed]",
      "text/plain": [
       "<Figure size 432x288 with 1 Axes>"
      ]
     },
     "metadata": {
      "needs_background": "light"
     },
     "output_type": "display_data"
    }
   ],
   "source": [
    "# Import seaborn\n",
    "import seaborn as sns \n",
    "\n",
    "X = np.asarray(df[['Road']])\n",
    "y = df[['Casualties']]  \n",
    "plt.scatter(X, y) "
   ]
  },
  {
   "cell_type": "code",
   "execution_count": 30,
   "metadata": {},
   "outputs": [
    {
     "data": {
      "text/plain": [
       "<matplotlib.collections.PathCollection at 0x7f9c325954e0>"
      ]
     },
     "execution_count": 30,
     "metadata": {},
     "output_type": "execute_result"
    },
    {
     "data": {
      "image/png": "[encoded data removed]",
      "text/plain": [
       "<Figure size 432x288 with 1 Axes>"
      ]
     },
     "metadata": {
      "needs_background": "light"
     },
     "output_type": "display_data"
    }
   ],
   "source": [
    "X = np.asarray(df[['Weat']])\n",
    "y = df[['Casualties']]  \n",
    "plt.scatter(X, y) "
   ]
  },
  {
   "cell_type": "code",
   "execution_count": 31,
   "metadata": {},
   "outputs": [
    {
     "data": {
      "text/plain": [
       "<matplotlib.collections.PathCollection at 0x7f9c32503b00>"
      ]
     },
     "execution_count": 31,
     "metadata": {},
     "output_type": "execute_result"
    },
    {
     "data": {
      "image/png": "[encoded data removed]",
      "text/plain": [
       "<Figure size 432x288 with 1 Axes>"
      ]
     },
     "metadata": {
      "needs_background": "light"
     },
     "output_type": "display_data"
    }
   ],
   "source": [
    "X = np.asarray(df[['Vis']])\n",
    "y = df[['Casualties']]  \n",
    "plt.scatter(X, y) "
   ]
  },
  {
   "cell_type": "code",
   "execution_count": 32,
   "metadata": {},
   "outputs": [
    {
     "data": {
      "text/plain": [
       "<matplotlib.collections.PathCollection at 0x7f9c324e97f0>"
      ]
     },
     "execution_count": 32,
     "metadata": {},
     "output_type": "execute_result"
    },
    {
     "data": {
      "image/png": "[encoded data removed]",
      "text/plain": [
       "<Figure size 432x288 with 1 Axes>"
      ]
     },
     "metadata": {
      "needs_background": "light"
     },
     "output_type": "display_data"
    }
   ],
   "source": [
    "X = np.asarray(df[['Speed_Lim']])\n",
    "y = df[['Casualties']]  \n",
    "plt.scatter(X, y) "
   ]
  },
  {
   "cell_type": "code",
   "execution_count": 33,
   "metadata": {},
   "outputs": [
    {
     "data": {
      "text/plain": [
       "Sev  Weat\n",
       "1    10        56\n",
       "     20         4\n",
       "     30         2\n",
       "     70         4\n",
       "2    10       483\n",
       "     20        52\n",
       "     30         4\n",
       "     50         4\n",
       "     60         4\n",
       "     75         9\n",
       "     80         8\n",
       "3    10      1572\n",
       "     20       191\n",
       "     30        16\n",
       "     40        40\n",
       "     50        11\n",
       "     60         5\n",
       "     70        10\n",
       "     75        53\n",
       "     80        31\n",
       "Name: Casualties, dtype: int64"
      ]
     },
     "execution_count": 33,
     "metadata": {},
     "output_type": "execute_result"
    }
   ],
   "source": [
    "df.groupby(['Sev','Weat'])['Casualties'].agg('sum') "
   ]
  },
  {
   "cell_type": "code",
   "execution_count": 34,
   "metadata": {},
   "outputs": [
    {
     "data": {
      "text/plain": [
       "Sev  Vis\n",
       "1    10       52\n",
       "     40        3\n",
       "     60       10\n",
       "     70        1\n",
       "2    10      383\n",
       "     40       84\n",
       "     50        2\n",
       "     60       80\n",
       "     70       15\n",
       "3    10     1447\n",
       "     40      285\n",
       "     50       19\n",
       "     60      137\n",
       "     70       41\n",
       "Name: Casualties, dtype: int64"
      ]
     },
     "execution_count": 34,
     "metadata": {},
     "output_type": "execute_result"
    }
   ],
   "source": [
    "df.groupby(['Sev','Vis'])['Casualties'].agg('sum') "
   ]
  },
  {
   "cell_type": "code",
   "execution_count": 35,
   "metadata": {},
   "outputs": [
    {
     "data": {
      "text/plain": [
       "Sev  Speed_Lim\n",
       "1    30             1\n",
       "     40             2\n",
       "     50             2\n",
       "     60            45\n",
       "     70            16\n",
       "2    20            26\n",
       "     30           184\n",
       "     40            39\n",
       "     50            22\n",
       "     60           228\n",
       "     70            65\n",
       "3    20            55\n",
       "     30           893\n",
       "     40           157\n",
       "     50            58\n",
       "     60           483\n",
       "     70           283\n",
       "Name: Casualties, dtype: int64"
      ]
     },
     "execution_count": 35,
     "metadata": {},
     "output_type": "execute_result"
    }
   ],
   "source": [
    "df.groupby(['Sev','Speed_Lim'])['Casualties'].agg('sum') "
   ]
  },
  {
   "cell_type": "code",
   "execution_count": 36,
   "metadata": {},
   "outputs": [
    {
     "data": {
      "text/plain": [
       "Sev  Roadnum1\n",
       "1    0             8\n",
       "     10            5\n",
       "     11            3\n",
       "     14            6\n",
       "     47           22\n",
       "     141           5\n",
       "     142           3\n",
       "     285           1\n",
       "     505           2\n",
       "     1095          1\n",
       "     1198          3\n",
       "     1307          7\n",
       "2    0           215\n",
       "     1            15\n",
       "     10           14\n",
       "     11           11\n",
       "     14           33\n",
       "     15            4\n",
       "     47           33\n",
       "     141          17\n",
       "     142           9\n",
       "     428           8\n",
       "     505           9\n",
       "     603           7\n",
       "     605           6\n",
       "     645           2\n",
       "     660           1\n",
       "     661           1\n",
       "     1040          4\n",
       "     1043          4\n",
       "                ... \n",
       "3    1098          6\n",
       "     1099          7\n",
       "     1101         25\n",
       "     1102         10\n",
       "     1109          1\n",
       "     1123         14\n",
       "     1129          6\n",
       "     1134         38\n",
       "     1139         43\n",
       "     1166          4\n",
       "     1167          6\n",
       "     1169          1\n",
       "     1179          6\n",
       "     1187          7\n",
       "     1198         19\n",
       "     1260         22\n",
       "     1301          1\n",
       "     1303         20\n",
       "     1304          8\n",
       "     1307         38\n",
       "     1309         11\n",
       "     1368          2\n",
       "     1382          2\n",
       "     1411          1\n",
       "     1428          8\n",
       "     1443          9\n",
       "     1514          6\n",
       "     1902          1\n",
       "     1906          1\n",
       "     2070          2\n",
       "Name: Casualties, Length: 143, dtype: int64"
      ]
     },
     "execution_count": 36,
     "metadata": {},
     "output_type": "execute_result"
    }
   ],
   "source": [
    "df.groupby(['Sev','Roadnum1'])['Casualties'].agg('sum') "
   ]
  },
  {
   "cell_type": "code",
   "execution_count": 37,
   "metadata": {},
   "outputs": [
    {
     "data": {
      "text/html": [
       "<div>\n",
       "<style scoped>\n",
       "    .dataframe tbody tr th:only-of-type {\n",
       "        vertical-align: middle;\n",
       "    }\n",
       "\n",
       "    .dataframe tbody tr th {\n",
       "        vertical-align: top;\n",
       "    }\n",
       "\n",
       "    .dataframe thead th {\n",
       "        text-align: right;\n",
       "    }\n",
       "</style>\n",
       "<table border=\"1\" class=\"dataframe\">\n",
       "  <thead>\n",
       "    <tr style=\"text-align: right;\">\n",
       "      <th></th>\n",
       "      <th>Road</th>\n",
       "      <th>Weat</th>\n",
       "      <th>Casualties</th>\n",
       "    </tr>\n",
       "  </thead>\n",
       "  <tbody>\n",
       "    <tr>\n",
       "      <th>0</th>\n",
       "      <td>20</td>\n",
       "      <td>10</td>\n",
       "      <td>1.431142</td>\n",
       "    </tr>\n",
       "    <tr>\n",
       "      <th>1</th>\n",
       "      <td>20</td>\n",
       "      <td>20</td>\n",
       "      <td>1.000000</td>\n",
       "    </tr>\n",
       "    <tr>\n",
       "      <th>2</th>\n",
       "      <td>20</td>\n",
       "      <td>40</td>\n",
       "      <td>1.562500</td>\n",
       "    </tr>\n",
       "    <tr>\n",
       "      <th>3</th>\n",
       "      <td>20</td>\n",
       "      <td>70</td>\n",
       "      <td>1.333333</td>\n",
       "    </tr>\n",
       "    <tr>\n",
       "      <th>4</th>\n",
       "      <td>20</td>\n",
       "      <td>75</td>\n",
       "      <td>1.777778</td>\n",
       "    </tr>\n",
       "  </tbody>\n",
       "</table>\n",
       "</div>"
      ],
      "text/plain": [
       "   Road  Weat  Casualties\n",
       "0    20    10    1.431142\n",
       "1    20    20    1.000000\n",
       "2    20    40    1.562500\n",
       "3    20    70    1.333333\n",
       "4    20    75    1.777778"
      ]
     },
     "execution_count": 37,
     "metadata": {},
     "output_type": "execute_result"
    }
   ],
   "source": [
    "df_test = df[['Road', 'Weat', 'Casualties']]\n",
    "df_grp = df_test.groupby(['Road', 'Weat'], as_index=False).mean() \n",
    "df_grp.head() "
   ]
  },
  {
   "cell_type": "code",
   "execution_count": 38,
   "metadata": {},
   "outputs": [
    {
     "data": {
      "text/plain": [
       "<matplotlib.colorbar.Colorbar at 0x7f9c32423b70>"
      ]
     },
     "execution_count": 38,
     "metadata": {},
     "output_type": "execute_result"
    },
    {
     "data": {
      "image/png": "[encoded data removed]",
      "text/plain": [
       "<Figure size 432x288 with 2 Axes>"
      ]
     },
     "metadata": {
      "needs_background": "light"
     },
     "output_type": "display_data"
    }
   ],
   "source": [
    "df_pivot = df_grp.pivot(index='Road', columns='Weat')\n",
    "# Draw a heat map for Road Conditions and Weather against Casualties\n",
    "plt.pcolor(df_pivot, cmap='RdBu')\n",
    "plt.colorbar() "
   ]
  },
  {
   "cell_type": "code",
   "execution_count": null,
   "metadata": {},
   "outputs": [],
   "source": []
  }
 ],
 "metadata": {
  "kernelspec": {
   "display_name": "Python 3.6",
   "language": "python",
   "name": "python3"
  },
  "language_info": {
   "codemirror_mode": {
    "name": "ipython",
    "version": 3
   },
   "file_extension": ".py",
   "mimetype": "text/x-python",
   "name": "python",
   "nbconvert_exporter": "python",
   "pygments_lexer": "ipython3",
   "version": "3.6.9"
  }
 },
 "nbformat": 4,
 "nbformat_minor": 1
}
